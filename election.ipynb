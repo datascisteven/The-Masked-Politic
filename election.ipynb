{
 "metadata": {
  "language_info": {
   "codemirror_mode": {
    "name": "ipython",
    "version": 3
   },
   "file_extension": ".py",
   "mimetype": "text/x-python",
   "name": "python",
   "nbconvert_exporter": "python",
   "pygments_lexer": "ipython3",
   "version": "3.9.4"
  },
  "orig_nbformat": 4,
  "kernelspec": {
   "name": "python3",
   "display_name": "Python 3.9.4 64-bit ('learn-env': conda)"
  },
  "interpreter": {
   "hash": "80773cdecc613a186b9eac051636553d2ff0f99c57590601666ed713bd5d0256"
  }
 },
 "nbformat": 4,
 "nbformat_minor": 2,
 "cells": [
  {
   "cell_type": "code",
   "execution_count": 25,
   "metadata": {},
   "outputs": [],
   "source": [
    "import pandas as pd\n",
    "import warnings\n",
    "warnings.filterwarnings(\"ignore\")"
   ]
  },
  {
   "cell_type": "code",
   "execution_count": 27,
   "metadata": {},
   "outputs": [],
   "source": [
    "df = pd.read_csv(\"1976-2020-president.csv\")"
   ]
  },
  {
   "cell_type": "code",
   "execution_count": 28,
   "metadata": {},
   "outputs": [
    {
     "output_type": "execute_result",
     "data": {
      "text/plain": [
       "      year    state state_po  state_fips  state_cen  state_ic        office  \\\n",
       "0     1976  ALABAMA       AL           1         63        41  US PRESIDENT   \n",
       "1     1976  ALABAMA       AL           1         63        41  US PRESIDENT   \n",
       "2     1976  ALABAMA       AL           1         63        41  US PRESIDENT   \n",
       "3     1976  ALABAMA       AL           1         63        41  US PRESIDENT   \n",
       "4     1976  ALABAMA       AL           1         63        41  US PRESIDENT   \n",
       "...    ...      ...      ...         ...        ...       ...           ...   \n",
       "4282  2020  WYOMING       WY          56         83        68  US PRESIDENT   \n",
       "4283  2020  WYOMING       WY          56         83        68  US PRESIDENT   \n",
       "4284  2020  WYOMING       WY          56         83        68  US PRESIDENT   \n",
       "4285  2020  WYOMING       WY          56         83        68  US PRESIDENT   \n",
       "4286  2020  WYOMING       WY          56         83        68  US PRESIDENT   \n",
       "\n",
       "                    candidate              party_detailed writein  \\\n",
       "0               CARTER, JIMMY                    DEMOCRAT   False   \n",
       "1                FORD, GERALD                  REPUBLICAN   False   \n",
       "2              MADDOX, LESTER  AMERICAN INDEPENDENT PARTY   False   \n",
       "3     BUBAR, BENJAMIN \"\"BEN\"\"                 PROHIBITION   False   \n",
       "4                   HALL, GUS         COMMUNIST PARTY USE   False   \n",
       "...                       ...                         ...     ...   \n",
       "4282            JORGENSEN, JO                 LIBERTARIAN   False   \n",
       "4283            PIERCE, BROCK                 INDEPENDENT   False   \n",
       "4284                      NaN                         NaN    True   \n",
       "4285                OVERVOTES                         NaN   False   \n",
       "4286               UNDERVOTES                         NaN   False   \n",
       "\n",
       "      candidatevotes  totalvotes   version  notes party_simplified  \n",
       "0             659170     1182850  20210113    NaN         DEMOCRAT  \n",
       "1             504070     1182850  20210113    NaN       REPUBLICAN  \n",
       "2               9198     1182850  20210113    NaN            OTHER  \n",
       "3               6669     1182850  20210113    NaN            OTHER  \n",
       "4               1954     1182850  20210113    NaN            OTHER  \n",
       "...              ...         ...       ...    ...              ...  \n",
       "4282            5768      278503  20210113    NaN      LIBERTARIAN  \n",
       "4283            2208      278503  20210113    NaN            OTHER  \n",
       "4284            1739      278503  20210113    NaN            OTHER  \n",
       "4285             279      278503  20210113    NaN            OTHER  \n",
       "4286            1459      278503  20210113    NaN            OTHER  \n",
       "\n",
       "[4287 rows x 15 columns]"
      ],
      "text/html": "<div>\n<style scoped>\n    .dataframe tbody tr th:only-of-type {\n        vertical-align: middle;\n    }\n\n    .dataframe tbody tr th {\n        vertical-align: top;\n    }\n\n    .dataframe thead th {\n        text-align: right;\n    }\n</style>\n<table border=\"1\" class=\"dataframe\">\n  <thead>\n    <tr style=\"text-align: right;\">\n      <th></th>\n      <th>year</th>\n      <th>state</th>\n      <th>state_po</th>\n      <th>state_fips</th>\n      <th>state_cen</th>\n      <th>state_ic</th>\n      <th>office</th>\n      <th>candidate</th>\n      <th>party_detailed</th>\n      <th>writein</th>\n      <th>candidatevotes</th>\n      <th>totalvotes</th>\n      <th>version</th>\n      <th>notes</th>\n      <th>party_simplified</th>\n    </tr>\n  </thead>\n  <tbody>\n    <tr>\n      <th>0</th>\n      <td>1976</td>\n      <td>ALABAMA</td>\n      <td>AL</td>\n      <td>1</td>\n      <td>63</td>\n      <td>41</td>\n      <td>US PRESIDENT</td>\n      <td>CARTER, JIMMY</td>\n      <td>DEMOCRAT</td>\n      <td>False</td>\n      <td>659170</td>\n      <td>1182850</td>\n      <td>20210113</td>\n      <td>NaN</td>\n      <td>DEMOCRAT</td>\n    </tr>\n    <tr>\n      <th>1</th>\n      <td>1976</td>\n      <td>ALABAMA</td>\n      <td>AL</td>\n      <td>1</td>\n      <td>63</td>\n      <td>41</td>\n      <td>US PRESIDENT</td>\n      <td>FORD, GERALD</td>\n      <td>REPUBLICAN</td>\n      <td>False</td>\n      <td>504070</td>\n      <td>1182850</td>\n      <td>20210113</td>\n      <td>NaN</td>\n      <td>REPUBLICAN</td>\n    </tr>\n    <tr>\n      <th>2</th>\n      <td>1976</td>\n      <td>ALABAMA</td>\n      <td>AL</td>\n      <td>1</td>\n      <td>63</td>\n      <td>41</td>\n      <td>US PRESIDENT</td>\n      <td>MADDOX, LESTER</td>\n      <td>AMERICAN INDEPENDENT PARTY</td>\n      <td>False</td>\n      <td>9198</td>\n      <td>1182850</td>\n      <td>20210113</td>\n      <td>NaN</td>\n      <td>OTHER</td>\n    </tr>\n    <tr>\n      <th>3</th>\n      <td>1976</td>\n      <td>ALABAMA</td>\n      <td>AL</td>\n      <td>1</td>\n      <td>63</td>\n      <td>41</td>\n      <td>US PRESIDENT</td>\n      <td>BUBAR, BENJAMIN \"\"BEN\"\"</td>\n      <td>PROHIBITION</td>\n      <td>False</td>\n      <td>6669</td>\n      <td>1182850</td>\n      <td>20210113</td>\n      <td>NaN</td>\n      <td>OTHER</td>\n    </tr>\n    <tr>\n      <th>4</th>\n      <td>1976</td>\n      <td>ALABAMA</td>\n      <td>AL</td>\n      <td>1</td>\n      <td>63</td>\n      <td>41</td>\n      <td>US PRESIDENT</td>\n      <td>HALL, GUS</td>\n      <td>COMMUNIST PARTY USE</td>\n      <td>False</td>\n      <td>1954</td>\n      <td>1182850</td>\n      <td>20210113</td>\n      <td>NaN</td>\n      <td>OTHER</td>\n    </tr>\n    <tr>\n      <th>...</th>\n      <td>...</td>\n      <td>...</td>\n      <td>...</td>\n      <td>...</td>\n      <td>...</td>\n      <td>...</td>\n      <td>...</td>\n      <td>...</td>\n      <td>...</td>\n      <td>...</td>\n      <td>...</td>\n      <td>...</td>\n      <td>...</td>\n      <td>...</td>\n      <td>...</td>\n    </tr>\n    <tr>\n      <th>4282</th>\n      <td>2020</td>\n      <td>WYOMING</td>\n      <td>WY</td>\n      <td>56</td>\n      <td>83</td>\n      <td>68</td>\n      <td>US PRESIDENT</td>\n      <td>JORGENSEN, JO</td>\n      <td>LIBERTARIAN</td>\n      <td>False</td>\n      <td>5768</td>\n      <td>278503</td>\n      <td>20210113</td>\n      <td>NaN</td>\n      <td>LIBERTARIAN</td>\n    </tr>\n    <tr>\n      <th>4283</th>\n      <td>2020</td>\n      <td>WYOMING</td>\n      <td>WY</td>\n      <td>56</td>\n      <td>83</td>\n      <td>68</td>\n      <td>US PRESIDENT</td>\n      <td>PIERCE, BROCK</td>\n      <td>INDEPENDENT</td>\n      <td>False</td>\n      <td>2208</td>\n      <td>278503</td>\n      <td>20210113</td>\n      <td>NaN</td>\n      <td>OTHER</td>\n    </tr>\n    <tr>\n      <th>4284</th>\n      <td>2020</td>\n      <td>WYOMING</td>\n      <td>WY</td>\n      <td>56</td>\n      <td>83</td>\n      <td>68</td>\n      <td>US PRESIDENT</td>\n      <td>NaN</td>\n      <td>NaN</td>\n      <td>True</td>\n      <td>1739</td>\n      <td>278503</td>\n      <td>20210113</td>\n      <td>NaN</td>\n      <td>OTHER</td>\n    </tr>\n    <tr>\n      <th>4285</th>\n      <td>2020</td>\n      <td>WYOMING</td>\n      <td>WY</td>\n      <td>56</td>\n      <td>83</td>\n      <td>68</td>\n      <td>US PRESIDENT</td>\n      <td>OVERVOTES</td>\n      <td>NaN</td>\n      <td>False</td>\n      <td>279</td>\n      <td>278503</td>\n      <td>20210113</td>\n      <td>NaN</td>\n      <td>OTHER</td>\n    </tr>\n    <tr>\n      <th>4286</th>\n      <td>2020</td>\n      <td>WYOMING</td>\n      <td>WY</td>\n      <td>56</td>\n      <td>83</td>\n      <td>68</td>\n      <td>US PRESIDENT</td>\n      <td>UNDERVOTES</td>\n      <td>NaN</td>\n      <td>False</td>\n      <td>1459</td>\n      <td>278503</td>\n      <td>20210113</td>\n      <td>NaN</td>\n      <td>OTHER</td>\n    </tr>\n  </tbody>\n</table>\n<p>4287 rows × 15 columns</p>\n</div>"
     },
     "metadata": {},
     "execution_count": 28
    }
   ],
   "source": [
    "df"
   ]
  },
  {
   "cell_type": "code",
   "execution_count": 29,
   "metadata": {},
   "outputs": [],
   "source": [
    "df = df[df.year == 2016]"
   ]
  },
  {
   "cell_type": "code",
   "execution_count": 30,
   "metadata": {},
   "outputs": [],
   "source": [
    "df2 = pd.read_csv(\"countypres_2000-2016.csv\")"
   ]
  },
  {
   "cell_type": "code",
   "execution_count": 31,
   "metadata": {},
   "outputs": [
    {
     "output_type": "execute_result",
     "data": {
      "text/plain": [
       "       year    state state_po       county    FIPS     office  \\\n",
       "0      2000  Alabama       AL      Autauga  1001.0  President   \n",
       "1      2000  Alabama       AL      Autauga  1001.0  President   \n",
       "2      2000  Alabama       AL      Autauga  1001.0  President   \n",
       "3      2000  Alabama       AL      Autauga  1001.0  President   \n",
       "4      2000  Alabama       AL      Baldwin  1003.0  President   \n",
       "...     ...      ...      ...          ...     ...        ...   \n",
       "50519  2016   Alaska       AK  District 40  2040.0  President   \n",
       "50520  2016   Alaska       AK  District 40  2040.0  President   \n",
       "50521  2016   Alaska      NaN  District 99  2099.0  President   \n",
       "50522  2016   Alaska      NaN  District 99  2099.0  President   \n",
       "50523  2016   Alaska      NaN  District 99  2099.0  President   \n",
       "\n",
       "             candidate       party  candidatevotes  totalvotes   version  \n",
       "0              Al Gore    democrat          4942.0       17208  20191203  \n",
       "1       George W. Bush  republican         11993.0       17208  20191203  \n",
       "2          Ralph Nader       green           160.0       17208  20191203  \n",
       "3                Other         NaN           113.0       17208  20191203  \n",
       "4              Al Gore    democrat         13997.0       56480  20191203  \n",
       "...                ...         ...             ...         ...       ...  \n",
       "50519     Donald Trump  republican          1377.0        4610  20191203  \n",
       "50520            Other         NaN           895.0        4610  20191203  \n",
       "50521  Hillary Clinton    democrat           274.0        5056  20191203  \n",
       "50522     Donald Trump  republican            40.0        5056  20191203  \n",
       "50523            Other         NaN            28.0        5056  20191203  \n",
       "\n",
       "[50524 rows x 11 columns]"
      ],
      "text/html": "<div>\n<style scoped>\n    .dataframe tbody tr th:only-of-type {\n        vertical-align: middle;\n    }\n\n    .dataframe tbody tr th {\n        vertical-align: top;\n    }\n\n    .dataframe thead th {\n        text-align: right;\n    }\n</style>\n<table border=\"1\" class=\"dataframe\">\n  <thead>\n    <tr style=\"text-align: right;\">\n      <th></th>\n      <th>year</th>\n      <th>state</th>\n      <th>state_po</th>\n      <th>county</th>\n      <th>FIPS</th>\n      <th>office</th>\n      <th>candidate</th>\n      <th>party</th>\n      <th>candidatevotes</th>\n      <th>totalvotes</th>\n      <th>version</th>\n    </tr>\n  </thead>\n  <tbody>\n    <tr>\n      <th>0</th>\n      <td>2000</td>\n      <td>Alabama</td>\n      <td>AL</td>\n      <td>Autauga</td>\n      <td>1001.0</td>\n      <td>President</td>\n      <td>Al Gore</td>\n      <td>democrat</td>\n      <td>4942.0</td>\n      <td>17208</td>\n      <td>20191203</td>\n    </tr>\n    <tr>\n      <th>1</th>\n      <td>2000</td>\n      <td>Alabama</td>\n      <td>AL</td>\n      <td>Autauga</td>\n      <td>1001.0</td>\n      <td>President</td>\n      <td>George W. Bush</td>\n      <td>republican</td>\n      <td>11993.0</td>\n      <td>17208</td>\n      <td>20191203</td>\n    </tr>\n    <tr>\n      <th>2</th>\n      <td>2000</td>\n      <td>Alabama</td>\n      <td>AL</td>\n      <td>Autauga</td>\n      <td>1001.0</td>\n      <td>President</td>\n      <td>Ralph Nader</td>\n      <td>green</td>\n      <td>160.0</td>\n      <td>17208</td>\n      <td>20191203</td>\n    </tr>\n    <tr>\n      <th>3</th>\n      <td>2000</td>\n      <td>Alabama</td>\n      <td>AL</td>\n      <td>Autauga</td>\n      <td>1001.0</td>\n      <td>President</td>\n      <td>Other</td>\n      <td>NaN</td>\n      <td>113.0</td>\n      <td>17208</td>\n      <td>20191203</td>\n    </tr>\n    <tr>\n      <th>4</th>\n      <td>2000</td>\n      <td>Alabama</td>\n      <td>AL</td>\n      <td>Baldwin</td>\n      <td>1003.0</td>\n      <td>President</td>\n      <td>Al Gore</td>\n      <td>democrat</td>\n      <td>13997.0</td>\n      <td>56480</td>\n      <td>20191203</td>\n    </tr>\n    <tr>\n      <th>...</th>\n      <td>...</td>\n      <td>...</td>\n      <td>...</td>\n      <td>...</td>\n      <td>...</td>\n      <td>...</td>\n      <td>...</td>\n      <td>...</td>\n      <td>...</td>\n      <td>...</td>\n      <td>...</td>\n    </tr>\n    <tr>\n      <th>50519</th>\n      <td>2016</td>\n      <td>Alaska</td>\n      <td>AK</td>\n      <td>District 40</td>\n      <td>2040.0</td>\n      <td>President</td>\n      <td>Donald Trump</td>\n      <td>republican</td>\n      <td>1377.0</td>\n      <td>4610</td>\n      <td>20191203</td>\n    </tr>\n    <tr>\n      <th>50520</th>\n      <td>2016</td>\n      <td>Alaska</td>\n      <td>AK</td>\n      <td>District 40</td>\n      <td>2040.0</td>\n      <td>President</td>\n      <td>Other</td>\n      <td>NaN</td>\n      <td>895.0</td>\n      <td>4610</td>\n      <td>20191203</td>\n    </tr>\n    <tr>\n      <th>50521</th>\n      <td>2016</td>\n      <td>Alaska</td>\n      <td>NaN</td>\n      <td>District 99</td>\n      <td>2099.0</td>\n      <td>President</td>\n      <td>Hillary Clinton</td>\n      <td>democrat</td>\n      <td>274.0</td>\n      <td>5056</td>\n      <td>20191203</td>\n    </tr>\n    <tr>\n      <th>50522</th>\n      <td>2016</td>\n      <td>Alaska</td>\n      <td>NaN</td>\n      <td>District 99</td>\n      <td>2099.0</td>\n      <td>President</td>\n      <td>Donald Trump</td>\n      <td>republican</td>\n      <td>40.0</td>\n      <td>5056</td>\n      <td>20191203</td>\n    </tr>\n    <tr>\n      <th>50523</th>\n      <td>2016</td>\n      <td>Alaska</td>\n      <td>NaN</td>\n      <td>District 99</td>\n      <td>2099.0</td>\n      <td>President</td>\n      <td>Other</td>\n      <td>NaN</td>\n      <td>28.0</td>\n      <td>5056</td>\n      <td>20191203</td>\n    </tr>\n  </tbody>\n</table>\n<p>50524 rows × 11 columns</p>\n</div>"
     },
     "metadata": {},
     "execution_count": 31
    }
   ],
   "source": [
    "df2"
   ]
  },
  {
   "cell_type": "code",
   "execution_count": 32,
   "metadata": {},
   "outputs": [],
   "source": [
    "df2['pctvotes'] = df2.candidatevotes / df2.totalvotes"
   ]
  },
  {
   "cell_type": "code",
   "execution_count": 33,
   "metadata": {},
   "outputs": [
    {
     "output_type": "execute_result",
     "data": {
      "text/plain": [
       "array([2000, 2000, 2000, ..., 2016, 2016, 2016])"
      ]
     },
     "metadata": {},
     "execution_count": 33
    }
   ],
   "source": [
    "df2.year.values"
   ]
  },
  {
   "cell_type": "code",
   "execution_count": 34,
   "metadata": {},
   "outputs": [
    {
     "output_type": "execute_result",
     "data": {
      "text/plain": [
       "       year    state state_po       county    FIPS     office  \\\n",
       "40517  2016  Alabama       AL      Autauga  1001.0  President   \n",
       "40518  2016  Alabama       AL      Autauga  1001.0  President   \n",
       "40519  2016  Alabama       AL      Autauga  1001.0  President   \n",
       "40520  2016  Alabama       AL      Baldwin  1003.0  President   \n",
       "40521  2016  Alabama       AL      Baldwin  1003.0  President   \n",
       "...     ...      ...      ...          ...     ...        ...   \n",
       "50519  2016   Alaska       AK  District 40  2040.0  President   \n",
       "50520  2016   Alaska       AK  District 40  2040.0  President   \n",
       "50521  2016   Alaska      NaN  District 99  2099.0  President   \n",
       "50522  2016   Alaska      NaN  District 99  2099.0  President   \n",
       "50523  2016   Alaska      NaN  District 99  2099.0  President   \n",
       "\n",
       "             candidate       party  candidatevotes  totalvotes   version  \\\n",
       "40517  Hillary Clinton    democrat          5936.0       24973  20191203   \n",
       "40518     Donald Trump  republican         18172.0       24973  20191203   \n",
       "40519            Other         NaN           865.0       24973  20191203   \n",
       "40520  Hillary Clinton    democrat         18458.0       95215  20191203   \n",
       "40521     Donald Trump  republican         72883.0       95215  20191203   \n",
       "...                ...         ...             ...         ...       ...   \n",
       "50519     Donald Trump  republican          1377.0        4610  20191203   \n",
       "50520            Other         NaN           895.0        4610  20191203   \n",
       "50521  Hillary Clinton    democrat           274.0        5056  20191203   \n",
       "50522     Donald Trump  republican            40.0        5056  20191203   \n",
       "50523            Other         NaN            28.0        5056  20191203   \n",
       "\n",
       "       pctvotes  \n",
       "40517  0.237697  \n",
       "40518  0.727666  \n",
       "40519  0.034637  \n",
       "40520  0.193856  \n",
       "40521  0.765457  \n",
       "...         ...  \n",
       "50519  0.298698  \n",
       "50520  0.194143  \n",
       "50521  0.054193  \n",
       "50522  0.007911  \n",
       "50523  0.005538  \n",
       "\n",
       "[9474 rows x 12 columns]"
      ],
      "text/html": "<div>\n<style scoped>\n    .dataframe tbody tr th:only-of-type {\n        vertical-align: middle;\n    }\n\n    .dataframe tbody tr th {\n        vertical-align: top;\n    }\n\n    .dataframe thead th {\n        text-align: right;\n    }\n</style>\n<table border=\"1\" class=\"dataframe\">\n  <thead>\n    <tr style=\"text-align: right;\">\n      <th></th>\n      <th>year</th>\n      <th>state</th>\n      <th>state_po</th>\n      <th>county</th>\n      <th>FIPS</th>\n      <th>office</th>\n      <th>candidate</th>\n      <th>party</th>\n      <th>candidatevotes</th>\n      <th>totalvotes</th>\n      <th>version</th>\n      <th>pctvotes</th>\n    </tr>\n  </thead>\n  <tbody>\n    <tr>\n      <th>40517</th>\n      <td>2016</td>\n      <td>Alabama</td>\n      <td>AL</td>\n      <td>Autauga</td>\n      <td>1001.0</td>\n      <td>President</td>\n      <td>Hillary Clinton</td>\n      <td>democrat</td>\n      <td>5936.0</td>\n      <td>24973</td>\n      <td>20191203</td>\n      <td>0.237697</td>\n    </tr>\n    <tr>\n      <th>40518</th>\n      <td>2016</td>\n      <td>Alabama</td>\n      <td>AL</td>\n      <td>Autauga</td>\n      <td>1001.0</td>\n      <td>President</td>\n      <td>Donald Trump</td>\n      <td>republican</td>\n      <td>18172.0</td>\n      <td>24973</td>\n      <td>20191203</td>\n      <td>0.727666</td>\n    </tr>\n    <tr>\n      <th>40519</th>\n      <td>2016</td>\n      <td>Alabama</td>\n      <td>AL</td>\n      <td>Autauga</td>\n      <td>1001.0</td>\n      <td>President</td>\n      <td>Other</td>\n      <td>NaN</td>\n      <td>865.0</td>\n      <td>24973</td>\n      <td>20191203</td>\n      <td>0.034637</td>\n    </tr>\n    <tr>\n      <th>40520</th>\n      <td>2016</td>\n      <td>Alabama</td>\n      <td>AL</td>\n      <td>Baldwin</td>\n      <td>1003.0</td>\n      <td>President</td>\n      <td>Hillary Clinton</td>\n      <td>democrat</td>\n      <td>18458.0</td>\n      <td>95215</td>\n      <td>20191203</td>\n      <td>0.193856</td>\n    </tr>\n    <tr>\n      <th>40521</th>\n      <td>2016</td>\n      <td>Alabama</td>\n      <td>AL</td>\n      <td>Baldwin</td>\n      <td>1003.0</td>\n      <td>President</td>\n      <td>Donald Trump</td>\n      <td>republican</td>\n      <td>72883.0</td>\n      <td>95215</td>\n      <td>20191203</td>\n      <td>0.765457</td>\n    </tr>\n    <tr>\n      <th>...</th>\n      <td>...</td>\n      <td>...</td>\n      <td>...</td>\n      <td>...</td>\n      <td>...</td>\n      <td>...</td>\n      <td>...</td>\n      <td>...</td>\n      <td>...</td>\n      <td>...</td>\n      <td>...</td>\n      <td>...</td>\n    </tr>\n    <tr>\n      <th>50519</th>\n      <td>2016</td>\n      <td>Alaska</td>\n      <td>AK</td>\n      <td>District 40</td>\n      <td>2040.0</td>\n      <td>President</td>\n      <td>Donald Trump</td>\n      <td>republican</td>\n      <td>1377.0</td>\n      <td>4610</td>\n      <td>20191203</td>\n      <td>0.298698</td>\n    </tr>\n    <tr>\n      <th>50520</th>\n      <td>2016</td>\n      <td>Alaska</td>\n      <td>AK</td>\n      <td>District 40</td>\n      <td>2040.0</td>\n      <td>President</td>\n      <td>Other</td>\n      <td>NaN</td>\n      <td>895.0</td>\n      <td>4610</td>\n      <td>20191203</td>\n      <td>0.194143</td>\n    </tr>\n    <tr>\n      <th>50521</th>\n      <td>2016</td>\n      <td>Alaska</td>\n      <td>NaN</td>\n      <td>District 99</td>\n      <td>2099.0</td>\n      <td>President</td>\n      <td>Hillary Clinton</td>\n      <td>democrat</td>\n      <td>274.0</td>\n      <td>5056</td>\n      <td>20191203</td>\n      <td>0.054193</td>\n    </tr>\n    <tr>\n      <th>50522</th>\n      <td>2016</td>\n      <td>Alaska</td>\n      <td>NaN</td>\n      <td>District 99</td>\n      <td>2099.0</td>\n      <td>President</td>\n      <td>Donald Trump</td>\n      <td>republican</td>\n      <td>40.0</td>\n      <td>5056</td>\n      <td>20191203</td>\n      <td>0.007911</td>\n    </tr>\n    <tr>\n      <th>50523</th>\n      <td>2016</td>\n      <td>Alaska</td>\n      <td>NaN</td>\n      <td>District 99</td>\n      <td>2099.0</td>\n      <td>President</td>\n      <td>Other</td>\n      <td>NaN</td>\n      <td>28.0</td>\n      <td>5056</td>\n      <td>20191203</td>\n      <td>0.005538</td>\n    </tr>\n  </tbody>\n</table>\n<p>9474 rows × 12 columns</p>\n</div>"
     },
     "metadata": {},
     "execution_count": 34
    }
   ],
   "source": [
    "df2 = df2[df2.year == 2016]\n",
    "df2"
   ]
  },
  {
   "cell_type": "code",
   "execution_count": 35,
   "metadata": {},
   "outputs": [
    {
     "output_type": "execute_result",
     "data": {
      "text/plain": [
       "9"
      ]
     },
     "metadata": {},
     "execution_count": 35
    }
   ],
   "source": [
    "df2.FIPS.isna().sum()"
   ]
  },
  {
   "cell_type": "code",
   "execution_count": 36,
   "metadata": {},
   "outputs": [
    {
     "output_type": "execute_result",
     "data": {
      "text/plain": [
       "year                 0\n",
       "state                0\n",
       "state_po            12\n",
       "county               0\n",
       "FIPS                 9\n",
       "office               0\n",
       "candidate            0\n",
       "party             3158\n",
       "candidatevotes       6\n",
       "totalvotes           0\n",
       "version              0\n",
       "pctvotes             6\n",
       "dtype: int64"
      ]
     },
     "metadata": {},
     "execution_count": 36
    }
   ],
   "source": [
    "df2.isna().sum()"
   ]
  },
  {
   "cell_type": "code",
   "execution_count": 37,
   "metadata": {},
   "outputs": [
    {
     "output_type": "execute_result",
     "data": {
      "text/plain": [
       "       year         state state_po             county  FIPS     office  \\\n",
       "49859  2016   Connecticut      NaN  Statewide writein   NaN  President   \n",
       "49860  2016         Maine      NaN       Maine UOCAVA   NaN  President   \n",
       "49861  2016  Rhode Island      NaN   Federal Precinct   NaN  President   \n",
       "49862  2016   Connecticut      NaN  Statewide writein   NaN  President   \n",
       "49863  2016         Maine      NaN       Maine UOCAVA   NaN  President   \n",
       "49864  2016  Rhode Island      NaN   Federal Precinct   NaN  President   \n",
       "49865  2016   Connecticut      NaN  Statewide writein   NaN  President   \n",
       "49866  2016         Maine      NaN       Maine UOCAVA   NaN  President   \n",
       "49867  2016  Rhode Island      NaN   Federal Precinct   NaN  President   \n",
       "\n",
       "             candidate       party  candidatevotes  totalvotes   version  \\\n",
       "49859  Hillary Clinton    democrat             NaN        5056  20191203   \n",
       "49860  Hillary Clinton    democrat          3017.0        5056  20191203   \n",
       "49861  Hillary Clinton    democrat           637.0        5056  20191203   \n",
       "49862     Donald Trump  republican             NaN        5056  20191203   \n",
       "49863     Donald Trump  republican           648.0        5056  20191203   \n",
       "49864     Donald Trump  republican            53.0        5056  20191203   \n",
       "49865            Other         NaN             NaN        5056  20191203   \n",
       "49866            Other         NaN           321.0        5056  20191203   \n",
       "49867            Other         NaN            38.0        5056  20191203   \n",
       "\n",
       "       pctvotes  \n",
       "49859       NaN  \n",
       "49860  0.596717  \n",
       "49861  0.125989  \n",
       "49862       NaN  \n",
       "49863  0.128165  \n",
       "49864  0.010483  \n",
       "49865       NaN  \n",
       "49866  0.063489  \n",
       "49867  0.007516  "
      ],
      "text/html": "<div>\n<style scoped>\n    .dataframe tbody tr th:only-of-type {\n        vertical-align: middle;\n    }\n\n    .dataframe tbody tr th {\n        vertical-align: top;\n    }\n\n    .dataframe thead th {\n        text-align: right;\n    }\n</style>\n<table border=\"1\" class=\"dataframe\">\n  <thead>\n    <tr style=\"text-align: right;\">\n      <th></th>\n      <th>year</th>\n      <th>state</th>\n      <th>state_po</th>\n      <th>county</th>\n      <th>FIPS</th>\n      <th>office</th>\n      <th>candidate</th>\n      <th>party</th>\n      <th>candidatevotes</th>\n      <th>totalvotes</th>\n      <th>version</th>\n      <th>pctvotes</th>\n    </tr>\n  </thead>\n  <tbody>\n    <tr>\n      <th>49859</th>\n      <td>2016</td>\n      <td>Connecticut</td>\n      <td>NaN</td>\n      <td>Statewide writein</td>\n      <td>NaN</td>\n      <td>President</td>\n      <td>Hillary Clinton</td>\n      <td>democrat</td>\n      <td>NaN</td>\n      <td>5056</td>\n      <td>20191203</td>\n      <td>NaN</td>\n    </tr>\n    <tr>\n      <th>49860</th>\n      <td>2016</td>\n      <td>Maine</td>\n      <td>NaN</td>\n      <td>Maine UOCAVA</td>\n      <td>NaN</td>\n      <td>President</td>\n      <td>Hillary Clinton</td>\n      <td>democrat</td>\n      <td>3017.0</td>\n      <td>5056</td>\n      <td>20191203</td>\n      <td>0.596717</td>\n    </tr>\n    <tr>\n      <th>49861</th>\n      <td>2016</td>\n      <td>Rhode Island</td>\n      <td>NaN</td>\n      <td>Federal Precinct</td>\n      <td>NaN</td>\n      <td>President</td>\n      <td>Hillary Clinton</td>\n      <td>democrat</td>\n      <td>637.0</td>\n      <td>5056</td>\n      <td>20191203</td>\n      <td>0.125989</td>\n    </tr>\n    <tr>\n      <th>49862</th>\n      <td>2016</td>\n      <td>Connecticut</td>\n      <td>NaN</td>\n      <td>Statewide writein</td>\n      <td>NaN</td>\n      <td>President</td>\n      <td>Donald Trump</td>\n      <td>republican</td>\n      <td>NaN</td>\n      <td>5056</td>\n      <td>20191203</td>\n      <td>NaN</td>\n    </tr>\n    <tr>\n      <th>49863</th>\n      <td>2016</td>\n      <td>Maine</td>\n      <td>NaN</td>\n      <td>Maine UOCAVA</td>\n      <td>NaN</td>\n      <td>President</td>\n      <td>Donald Trump</td>\n      <td>republican</td>\n      <td>648.0</td>\n      <td>5056</td>\n      <td>20191203</td>\n      <td>0.128165</td>\n    </tr>\n    <tr>\n      <th>49864</th>\n      <td>2016</td>\n      <td>Rhode Island</td>\n      <td>NaN</td>\n      <td>Federal Precinct</td>\n      <td>NaN</td>\n      <td>President</td>\n      <td>Donald Trump</td>\n      <td>republican</td>\n      <td>53.0</td>\n      <td>5056</td>\n      <td>20191203</td>\n      <td>0.010483</td>\n    </tr>\n    <tr>\n      <th>49865</th>\n      <td>2016</td>\n      <td>Connecticut</td>\n      <td>NaN</td>\n      <td>Statewide writein</td>\n      <td>NaN</td>\n      <td>President</td>\n      <td>Other</td>\n      <td>NaN</td>\n      <td>NaN</td>\n      <td>5056</td>\n      <td>20191203</td>\n      <td>NaN</td>\n    </tr>\n    <tr>\n      <th>49866</th>\n      <td>2016</td>\n      <td>Maine</td>\n      <td>NaN</td>\n      <td>Maine UOCAVA</td>\n      <td>NaN</td>\n      <td>President</td>\n      <td>Other</td>\n      <td>NaN</td>\n      <td>321.0</td>\n      <td>5056</td>\n      <td>20191203</td>\n      <td>0.063489</td>\n    </tr>\n    <tr>\n      <th>49867</th>\n      <td>2016</td>\n      <td>Rhode Island</td>\n      <td>NaN</td>\n      <td>Federal Precinct</td>\n      <td>NaN</td>\n      <td>President</td>\n      <td>Other</td>\n      <td>NaN</td>\n      <td>38.0</td>\n      <td>5056</td>\n      <td>20191203</td>\n      <td>0.007516</td>\n    </tr>\n  </tbody>\n</table>\n</div>"
     },
     "metadata": {},
     "execution_count": 37
    }
   ],
   "source": [
    "empty = df2[df2.FIPS.isnull()]\n",
    "empty"
   ]
  },
  {
   "cell_type": "code",
   "execution_count": 38,
   "metadata": {},
   "outputs": [],
   "source": [
    "df2 = df2.dropna(subset=['FIPS'])"
   ]
  },
  {
   "cell_type": "code",
   "execution_count": 39,
   "metadata": {},
   "outputs": [
    {
     "output_type": "execute_result",
     "data": {
      "text/plain": [
       "year                 0\n",
       "state                0\n",
       "state_po             3\n",
       "county               0\n",
       "FIPS                 0\n",
       "office               0\n",
       "candidate            0\n",
       "party             3155\n",
       "candidatevotes       3\n",
       "totalvotes           0\n",
       "version              0\n",
       "pctvotes             3\n",
       "dtype: int64"
      ]
     },
     "metadata": {},
     "execution_count": 39
    }
   ],
   "source": [
    "df2.isna().sum()"
   ]
  },
  {
   "cell_type": "code",
   "execution_count": 40,
   "metadata": {},
   "outputs": [
    {
     "output_type": "execute_result",
     "data": {
      "text/plain": [
       "       year    state state_po       county  FIPS     office        candidate  \\\n",
       "40517  2016  Alabama       AL      Autauga  1001  President  Hillary Clinton   \n",
       "40518  2016  Alabama       AL      Autauga  1001  President     Donald Trump   \n",
       "40519  2016  Alabama       AL      Autauga  1001  President            Other   \n",
       "40520  2016  Alabama       AL      Baldwin  1003  President  Hillary Clinton   \n",
       "40521  2016  Alabama       AL      Baldwin  1003  President     Donald Trump   \n",
       "...     ...      ...      ...          ...   ...        ...              ...   \n",
       "50519  2016   Alaska       AK  District 40  2040  President     Donald Trump   \n",
       "50520  2016   Alaska       AK  District 40  2040  President            Other   \n",
       "50521  2016   Alaska      NaN  District 99  2099  President  Hillary Clinton   \n",
       "50522  2016   Alaska      NaN  District 99  2099  President     Donald Trump   \n",
       "50523  2016   Alaska      NaN  District 99  2099  President            Other   \n",
       "\n",
       "            party  candidatevotes  totalvotes   version  pctvotes  \n",
       "40517    democrat          5936.0       24973  20191203  0.237697  \n",
       "40518  republican         18172.0       24973  20191203  0.727666  \n",
       "40519         NaN           865.0       24973  20191203  0.034637  \n",
       "40520    democrat         18458.0       95215  20191203  0.193856  \n",
       "40521  republican         72883.0       95215  20191203  0.765457  \n",
       "...           ...             ...         ...       ...       ...  \n",
       "50519  republican          1377.0        4610  20191203  0.298698  \n",
       "50520         NaN           895.0        4610  20191203  0.194143  \n",
       "50521    democrat           274.0        5056  20191203  0.054193  \n",
       "50522  republican            40.0        5056  20191203  0.007911  \n",
       "50523         NaN            28.0        5056  20191203  0.005538  \n",
       "\n",
       "[9465 rows x 12 columns]"
      ],
      "text/html": "<div>\n<style scoped>\n    .dataframe tbody tr th:only-of-type {\n        vertical-align: middle;\n    }\n\n    .dataframe tbody tr th {\n        vertical-align: top;\n    }\n\n    .dataframe thead th {\n        text-align: right;\n    }\n</style>\n<table border=\"1\" class=\"dataframe\">\n  <thead>\n    <tr style=\"text-align: right;\">\n      <th></th>\n      <th>year</th>\n      <th>state</th>\n      <th>state_po</th>\n      <th>county</th>\n      <th>FIPS</th>\n      <th>office</th>\n      <th>candidate</th>\n      <th>party</th>\n      <th>candidatevotes</th>\n      <th>totalvotes</th>\n      <th>version</th>\n      <th>pctvotes</th>\n    </tr>\n  </thead>\n  <tbody>\n    <tr>\n      <th>40517</th>\n      <td>2016</td>\n      <td>Alabama</td>\n      <td>AL</td>\n      <td>Autauga</td>\n      <td>1001</td>\n      <td>President</td>\n      <td>Hillary Clinton</td>\n      <td>democrat</td>\n      <td>5936.0</td>\n      <td>24973</td>\n      <td>20191203</td>\n      <td>0.237697</td>\n    </tr>\n    <tr>\n      <th>40518</th>\n      <td>2016</td>\n      <td>Alabama</td>\n      <td>AL</td>\n      <td>Autauga</td>\n      <td>1001</td>\n      <td>President</td>\n      <td>Donald Trump</td>\n      <td>republican</td>\n      <td>18172.0</td>\n      <td>24973</td>\n      <td>20191203</td>\n      <td>0.727666</td>\n    </tr>\n    <tr>\n      <th>40519</th>\n      <td>2016</td>\n      <td>Alabama</td>\n      <td>AL</td>\n      <td>Autauga</td>\n      <td>1001</td>\n      <td>President</td>\n      <td>Other</td>\n      <td>NaN</td>\n      <td>865.0</td>\n      <td>24973</td>\n      <td>20191203</td>\n      <td>0.034637</td>\n    </tr>\n    <tr>\n      <th>40520</th>\n      <td>2016</td>\n      <td>Alabama</td>\n      <td>AL</td>\n      <td>Baldwin</td>\n      <td>1003</td>\n      <td>President</td>\n      <td>Hillary Clinton</td>\n      <td>democrat</td>\n      <td>18458.0</td>\n      <td>95215</td>\n      <td>20191203</td>\n      <td>0.193856</td>\n    </tr>\n    <tr>\n      <th>40521</th>\n      <td>2016</td>\n      <td>Alabama</td>\n      <td>AL</td>\n      <td>Baldwin</td>\n      <td>1003</td>\n      <td>President</td>\n      <td>Donald Trump</td>\n      <td>republican</td>\n      <td>72883.0</td>\n      <td>95215</td>\n      <td>20191203</td>\n      <td>0.765457</td>\n    </tr>\n    <tr>\n      <th>...</th>\n      <td>...</td>\n      <td>...</td>\n      <td>...</td>\n      <td>...</td>\n      <td>...</td>\n      <td>...</td>\n      <td>...</td>\n      <td>...</td>\n      <td>...</td>\n      <td>...</td>\n      <td>...</td>\n      <td>...</td>\n    </tr>\n    <tr>\n      <th>50519</th>\n      <td>2016</td>\n      <td>Alaska</td>\n      <td>AK</td>\n      <td>District 40</td>\n      <td>2040</td>\n      <td>President</td>\n      <td>Donald Trump</td>\n      <td>republican</td>\n      <td>1377.0</td>\n      <td>4610</td>\n      <td>20191203</td>\n      <td>0.298698</td>\n    </tr>\n    <tr>\n      <th>50520</th>\n      <td>2016</td>\n      <td>Alaska</td>\n      <td>AK</td>\n      <td>District 40</td>\n      <td>2040</td>\n      <td>President</td>\n      <td>Other</td>\n      <td>NaN</td>\n      <td>895.0</td>\n      <td>4610</td>\n      <td>20191203</td>\n      <td>0.194143</td>\n    </tr>\n    <tr>\n      <th>50521</th>\n      <td>2016</td>\n      <td>Alaska</td>\n      <td>NaN</td>\n      <td>District 99</td>\n      <td>2099</td>\n      <td>President</td>\n      <td>Hillary Clinton</td>\n      <td>democrat</td>\n      <td>274.0</td>\n      <td>5056</td>\n      <td>20191203</td>\n      <td>0.054193</td>\n    </tr>\n    <tr>\n      <th>50522</th>\n      <td>2016</td>\n      <td>Alaska</td>\n      <td>NaN</td>\n      <td>District 99</td>\n      <td>2099</td>\n      <td>President</td>\n      <td>Donald Trump</td>\n      <td>republican</td>\n      <td>40.0</td>\n      <td>5056</td>\n      <td>20191203</td>\n      <td>0.007911</td>\n    </tr>\n    <tr>\n      <th>50523</th>\n      <td>2016</td>\n      <td>Alaska</td>\n      <td>NaN</td>\n      <td>District 99</td>\n      <td>2099</td>\n      <td>President</td>\n      <td>Other</td>\n      <td>NaN</td>\n      <td>28.0</td>\n      <td>5056</td>\n      <td>20191203</td>\n      <td>0.005538</td>\n    </tr>\n  </tbody>\n</table>\n<p>9465 rows × 12 columns</p>\n</div>"
     },
     "metadata": {},
     "execution_count": 40
    }
   ],
   "source": [
    "df2.FIPS = df2.FIPS.apply(lambda x: int(x))\n",
    "df2"
   ]
  },
  {
   "cell_type": "code",
   "execution_count": 41,
   "metadata": {},
   "outputs": [],
   "source": [
    "df2['sorter'] = df2.sort_values(['candidatevotes'], ascending=False)\\\n",
    "                    .groupby(['FIPS'])\\\n",
    "                    .cumcount() + 1"
   ]
  },
  {
   "cell_type": "code",
   "execution_count": 42,
   "metadata": {},
   "outputs": [
    {
     "output_type": "execute_result",
     "data": {
      "text/plain": [
       "       year    state state_po       county  FIPS     office        candidate  \\\n",
       "40517  2016  Alabama       AL      Autauga  1001  President  Hillary Clinton   \n",
       "40518  2016  Alabama       AL      Autauga  1001  President     Donald Trump   \n",
       "40519  2016  Alabama       AL      Autauga  1001  President            Other   \n",
       "40520  2016  Alabama       AL      Baldwin  1003  President  Hillary Clinton   \n",
       "40521  2016  Alabama       AL      Baldwin  1003  President     Donald Trump   \n",
       "...     ...      ...      ...          ...   ...        ...              ...   \n",
       "50519  2016   Alaska       AK  District 40  2040  President     Donald Trump   \n",
       "50520  2016   Alaska       AK  District 40  2040  President            Other   \n",
       "50521  2016   Alaska      NaN  District 99  2099  President  Hillary Clinton   \n",
       "50522  2016   Alaska      NaN  District 99  2099  President     Donald Trump   \n",
       "50523  2016   Alaska      NaN  District 99  2099  President            Other   \n",
       "\n",
       "            party  candidatevotes  totalvotes   version  pctvotes  sorter  \n",
       "40517    democrat          5936.0       24973  20191203  0.237697       2  \n",
       "40518  republican         18172.0       24973  20191203  0.727666       1  \n",
       "40519         NaN           865.0       24973  20191203  0.034637       3  \n",
       "40520    democrat         18458.0       95215  20191203  0.193856       2  \n",
       "40521  republican         72883.0       95215  20191203  0.765457       1  \n",
       "...           ...             ...         ...       ...       ...     ...  \n",
       "50519  republican          1377.0        4610  20191203  0.298698       2  \n",
       "50520         NaN           895.0        4610  20191203  0.194143       3  \n",
       "50521    democrat           274.0        5056  20191203  0.054193       1  \n",
       "50522  republican            40.0        5056  20191203  0.007911       2  \n",
       "50523         NaN            28.0        5056  20191203  0.005538       3  \n",
       "\n",
       "[9465 rows x 13 columns]"
      ],
      "text/html": "<div>\n<style scoped>\n    .dataframe tbody tr th:only-of-type {\n        vertical-align: middle;\n    }\n\n    .dataframe tbody tr th {\n        vertical-align: top;\n    }\n\n    .dataframe thead th {\n        text-align: right;\n    }\n</style>\n<table border=\"1\" class=\"dataframe\">\n  <thead>\n    <tr style=\"text-align: right;\">\n      <th></th>\n      <th>year</th>\n      <th>state</th>\n      <th>state_po</th>\n      <th>county</th>\n      <th>FIPS</th>\n      <th>office</th>\n      <th>candidate</th>\n      <th>party</th>\n      <th>candidatevotes</th>\n      <th>totalvotes</th>\n      <th>version</th>\n      <th>pctvotes</th>\n      <th>sorter</th>\n    </tr>\n  </thead>\n  <tbody>\n    <tr>\n      <th>40517</th>\n      <td>2016</td>\n      <td>Alabama</td>\n      <td>AL</td>\n      <td>Autauga</td>\n      <td>1001</td>\n      <td>President</td>\n      <td>Hillary Clinton</td>\n      <td>democrat</td>\n      <td>5936.0</td>\n      <td>24973</td>\n      <td>20191203</td>\n      <td>0.237697</td>\n      <td>2</td>\n    </tr>\n    <tr>\n      <th>40518</th>\n      <td>2016</td>\n      <td>Alabama</td>\n      <td>AL</td>\n      <td>Autauga</td>\n      <td>1001</td>\n      <td>President</td>\n      <td>Donald Trump</td>\n      <td>republican</td>\n      <td>18172.0</td>\n      <td>24973</td>\n      <td>20191203</td>\n      <td>0.727666</td>\n      <td>1</td>\n    </tr>\n    <tr>\n      <th>40519</th>\n      <td>2016</td>\n      <td>Alabama</td>\n      <td>AL</td>\n      <td>Autauga</td>\n      <td>1001</td>\n      <td>President</td>\n      <td>Other</td>\n      <td>NaN</td>\n      <td>865.0</td>\n      <td>24973</td>\n      <td>20191203</td>\n      <td>0.034637</td>\n      <td>3</td>\n    </tr>\n    <tr>\n      <th>40520</th>\n      <td>2016</td>\n      <td>Alabama</td>\n      <td>AL</td>\n      <td>Baldwin</td>\n      <td>1003</td>\n      <td>President</td>\n      <td>Hillary Clinton</td>\n      <td>democrat</td>\n      <td>18458.0</td>\n      <td>95215</td>\n      <td>20191203</td>\n      <td>0.193856</td>\n      <td>2</td>\n    </tr>\n    <tr>\n      <th>40521</th>\n      <td>2016</td>\n      <td>Alabama</td>\n      <td>AL</td>\n      <td>Baldwin</td>\n      <td>1003</td>\n      <td>President</td>\n      <td>Donald Trump</td>\n      <td>republican</td>\n      <td>72883.0</td>\n      <td>95215</td>\n      <td>20191203</td>\n      <td>0.765457</td>\n      <td>1</td>\n    </tr>\n    <tr>\n      <th>...</th>\n      <td>...</td>\n      <td>...</td>\n      <td>...</td>\n      <td>...</td>\n      <td>...</td>\n      <td>...</td>\n      <td>...</td>\n      <td>...</td>\n      <td>...</td>\n      <td>...</td>\n      <td>...</td>\n      <td>...</td>\n      <td>...</td>\n    </tr>\n    <tr>\n      <th>50519</th>\n      <td>2016</td>\n      <td>Alaska</td>\n      <td>AK</td>\n      <td>District 40</td>\n      <td>2040</td>\n      <td>President</td>\n      <td>Donald Trump</td>\n      <td>republican</td>\n      <td>1377.0</td>\n      <td>4610</td>\n      <td>20191203</td>\n      <td>0.298698</td>\n      <td>2</td>\n    </tr>\n    <tr>\n      <th>50520</th>\n      <td>2016</td>\n      <td>Alaska</td>\n      <td>AK</td>\n      <td>District 40</td>\n      <td>2040</td>\n      <td>President</td>\n      <td>Other</td>\n      <td>NaN</td>\n      <td>895.0</td>\n      <td>4610</td>\n      <td>20191203</td>\n      <td>0.194143</td>\n      <td>3</td>\n    </tr>\n    <tr>\n      <th>50521</th>\n      <td>2016</td>\n      <td>Alaska</td>\n      <td>NaN</td>\n      <td>District 99</td>\n      <td>2099</td>\n      <td>President</td>\n      <td>Hillary Clinton</td>\n      <td>democrat</td>\n      <td>274.0</td>\n      <td>5056</td>\n      <td>20191203</td>\n      <td>0.054193</td>\n      <td>1</td>\n    </tr>\n    <tr>\n      <th>50522</th>\n      <td>2016</td>\n      <td>Alaska</td>\n      <td>NaN</td>\n      <td>District 99</td>\n      <td>2099</td>\n      <td>President</td>\n      <td>Donald Trump</td>\n      <td>republican</td>\n      <td>40.0</td>\n      <td>5056</td>\n      <td>20191203</td>\n      <td>0.007911</td>\n      <td>2</td>\n    </tr>\n    <tr>\n      <th>50523</th>\n      <td>2016</td>\n      <td>Alaska</td>\n      <td>NaN</td>\n      <td>District 99</td>\n      <td>2099</td>\n      <td>President</td>\n      <td>Other</td>\n      <td>NaN</td>\n      <td>28.0</td>\n      <td>5056</td>\n      <td>20191203</td>\n      <td>0.005538</td>\n      <td>3</td>\n    </tr>\n  </tbody>\n</table>\n<p>9465 rows × 13 columns</p>\n</div>"
     },
     "metadata": {},
     "execution_count": 42
    }
   ],
   "source": [
    "df2"
   ]
  },
  {
   "cell_type": "code",
   "execution_count": 43,
   "metadata": {},
   "outputs": [],
   "source": [
    "df2.FIPS = df2.FIPS.apply(lambda x: str(x))"
   ]
  },
  {
   "cell_type": "code",
   "execution_count": 44,
   "metadata": {},
   "outputs": [],
   "source": [
    "df2.FIPS = df2.FIPS.apply(lambda x: '0' + x if len(x)==4 else x)"
   ]
  },
  {
   "cell_type": "code",
   "execution_count": 45,
   "metadata": {},
   "outputs": [
    {
     "output_type": "execute_result",
     "data": {
      "text/plain": [
       "       year    state state_po       county   FIPS     office        candidate  \\\n",
       "40517  2016  Alabama       AL      Autauga  01001  President  Hillary Clinton   \n",
       "40518  2016  Alabama       AL      Autauga  01001  President     Donald Trump   \n",
       "40519  2016  Alabama       AL      Autauga  01001  President            Other   \n",
       "40520  2016  Alabama       AL      Baldwin  01003  President  Hillary Clinton   \n",
       "40521  2016  Alabama       AL      Baldwin  01003  President     Donald Trump   \n",
       "...     ...      ...      ...          ...    ...        ...              ...   \n",
       "50519  2016   Alaska       AK  District 40  02040  President     Donald Trump   \n",
       "50520  2016   Alaska       AK  District 40  02040  President            Other   \n",
       "50521  2016   Alaska      NaN  District 99  02099  President  Hillary Clinton   \n",
       "50522  2016   Alaska      NaN  District 99  02099  President     Donald Trump   \n",
       "50523  2016   Alaska      NaN  District 99  02099  President            Other   \n",
       "\n",
       "            party  candidatevotes  totalvotes   version  pctvotes  sorter  \n",
       "40517    democrat          5936.0       24973  20191203  0.237697       2  \n",
       "40518  republican         18172.0       24973  20191203  0.727666       1  \n",
       "40519         NaN           865.0       24973  20191203  0.034637       3  \n",
       "40520    democrat         18458.0       95215  20191203  0.193856       2  \n",
       "40521  republican         72883.0       95215  20191203  0.765457       1  \n",
       "...           ...             ...         ...       ...       ...     ...  \n",
       "50519  republican          1377.0        4610  20191203  0.298698       2  \n",
       "50520         NaN           895.0        4610  20191203  0.194143       3  \n",
       "50521    democrat           274.0        5056  20191203  0.054193       1  \n",
       "50522  republican            40.0        5056  20191203  0.007911       2  \n",
       "50523         NaN            28.0        5056  20191203  0.005538       3  \n",
       "\n",
       "[9465 rows x 13 columns]"
      ],
      "text/html": "<div>\n<style scoped>\n    .dataframe tbody tr th:only-of-type {\n        vertical-align: middle;\n    }\n\n    .dataframe tbody tr th {\n        vertical-align: top;\n    }\n\n    .dataframe thead th {\n        text-align: right;\n    }\n</style>\n<table border=\"1\" class=\"dataframe\">\n  <thead>\n    <tr style=\"text-align: right;\">\n      <th></th>\n      <th>year</th>\n      <th>state</th>\n      <th>state_po</th>\n      <th>county</th>\n      <th>FIPS</th>\n      <th>office</th>\n      <th>candidate</th>\n      <th>party</th>\n      <th>candidatevotes</th>\n      <th>totalvotes</th>\n      <th>version</th>\n      <th>pctvotes</th>\n      <th>sorter</th>\n    </tr>\n  </thead>\n  <tbody>\n    <tr>\n      <th>40517</th>\n      <td>2016</td>\n      <td>Alabama</td>\n      <td>AL</td>\n      <td>Autauga</td>\n      <td>01001</td>\n      <td>President</td>\n      <td>Hillary Clinton</td>\n      <td>democrat</td>\n      <td>5936.0</td>\n      <td>24973</td>\n      <td>20191203</td>\n      <td>0.237697</td>\n      <td>2</td>\n    </tr>\n    <tr>\n      <th>40518</th>\n      <td>2016</td>\n      <td>Alabama</td>\n      <td>AL</td>\n      <td>Autauga</td>\n      <td>01001</td>\n      <td>President</td>\n      <td>Donald Trump</td>\n      <td>republican</td>\n      <td>18172.0</td>\n      <td>24973</td>\n      <td>20191203</td>\n      <td>0.727666</td>\n      <td>1</td>\n    </tr>\n    <tr>\n      <th>40519</th>\n      <td>2016</td>\n      <td>Alabama</td>\n      <td>AL</td>\n      <td>Autauga</td>\n      <td>01001</td>\n      <td>President</td>\n      <td>Other</td>\n      <td>NaN</td>\n      <td>865.0</td>\n      <td>24973</td>\n      <td>20191203</td>\n      <td>0.034637</td>\n      <td>3</td>\n    </tr>\n    <tr>\n      <th>40520</th>\n      <td>2016</td>\n      <td>Alabama</td>\n      <td>AL</td>\n      <td>Baldwin</td>\n      <td>01003</td>\n      <td>President</td>\n      <td>Hillary Clinton</td>\n      <td>democrat</td>\n      <td>18458.0</td>\n      <td>95215</td>\n      <td>20191203</td>\n      <td>0.193856</td>\n      <td>2</td>\n    </tr>\n    <tr>\n      <th>40521</th>\n      <td>2016</td>\n      <td>Alabama</td>\n      <td>AL</td>\n      <td>Baldwin</td>\n      <td>01003</td>\n      <td>President</td>\n      <td>Donald Trump</td>\n      <td>republican</td>\n      <td>72883.0</td>\n      <td>95215</td>\n      <td>20191203</td>\n      <td>0.765457</td>\n      <td>1</td>\n    </tr>\n    <tr>\n      <th>...</th>\n      <td>...</td>\n      <td>...</td>\n      <td>...</td>\n      <td>...</td>\n      <td>...</td>\n      <td>...</td>\n      <td>...</td>\n      <td>...</td>\n      <td>...</td>\n      <td>...</td>\n      <td>...</td>\n      <td>...</td>\n      <td>...</td>\n    </tr>\n    <tr>\n      <th>50519</th>\n      <td>2016</td>\n      <td>Alaska</td>\n      <td>AK</td>\n      <td>District 40</td>\n      <td>02040</td>\n      <td>President</td>\n      <td>Donald Trump</td>\n      <td>republican</td>\n      <td>1377.0</td>\n      <td>4610</td>\n      <td>20191203</td>\n      <td>0.298698</td>\n      <td>2</td>\n    </tr>\n    <tr>\n      <th>50520</th>\n      <td>2016</td>\n      <td>Alaska</td>\n      <td>AK</td>\n      <td>District 40</td>\n      <td>02040</td>\n      <td>President</td>\n      <td>Other</td>\n      <td>NaN</td>\n      <td>895.0</td>\n      <td>4610</td>\n      <td>20191203</td>\n      <td>0.194143</td>\n      <td>3</td>\n    </tr>\n    <tr>\n      <th>50521</th>\n      <td>2016</td>\n      <td>Alaska</td>\n      <td>NaN</td>\n      <td>District 99</td>\n      <td>02099</td>\n      <td>President</td>\n      <td>Hillary Clinton</td>\n      <td>democrat</td>\n      <td>274.0</td>\n      <td>5056</td>\n      <td>20191203</td>\n      <td>0.054193</td>\n      <td>1</td>\n    </tr>\n    <tr>\n      <th>50522</th>\n      <td>2016</td>\n      <td>Alaska</td>\n      <td>NaN</td>\n      <td>District 99</td>\n      <td>02099</td>\n      <td>President</td>\n      <td>Donald Trump</td>\n      <td>republican</td>\n      <td>40.0</td>\n      <td>5056</td>\n      <td>20191203</td>\n      <td>0.007911</td>\n      <td>2</td>\n    </tr>\n    <tr>\n      <th>50523</th>\n      <td>2016</td>\n      <td>Alaska</td>\n      <td>NaN</td>\n      <td>District 99</td>\n      <td>02099</td>\n      <td>President</td>\n      <td>Other</td>\n      <td>NaN</td>\n      <td>28.0</td>\n      <td>5056</td>\n      <td>20191203</td>\n      <td>0.005538</td>\n      <td>3</td>\n    </tr>\n  </tbody>\n</table>\n<p>9465 rows × 13 columns</p>\n</div>"
     },
     "metadata": {},
     "execution_count": 45
    }
   ],
   "source": [
    "df2"
   ]
  },
  {
   "cell_type": "code",
   "execution_count": 46,
   "metadata": {},
   "outputs": [
    {
     "output_type": "execute_result",
     "data": {
      "text/plain": [
       "       year    state state_po       county   FIPS     office        candidate  \\\n",
       "40518  2016  Alabama       AL      Autauga  01001  President     Donald Trump   \n",
       "40521  2016  Alabama       AL      Baldwin  01003  President     Donald Trump   \n",
       "40524  2016  Alabama       AL      Barbour  01005  President     Donald Trump   \n",
       "40527  2016  Alabama       AL         Bibb  01007  President     Donald Trump   \n",
       "40530  2016  Alabama       AL       Blount  01009  President     Donald Trump   \n",
       "...     ...      ...      ...          ...    ...        ...              ...   \n",
       "50509  2016   Alaska       AK  District 37  02037  President  Hillary Clinton   \n",
       "50512  2016   Alaska       AK  District 38  02038  President  Hillary Clinton   \n",
       "50515  2016   Alaska       AK  District 39  02039  President  Hillary Clinton   \n",
       "50518  2016   Alaska       AK  District 40  02040  President  Hillary Clinton   \n",
       "50521  2016   Alaska      NaN  District 99  02099  President  Hillary Clinton   \n",
       "\n",
       "            party  candidatevotes  totalvotes   version  pctvotes  sorter  \n",
       "40518  republican         18172.0       24973  20191203  0.727666       1  \n",
       "40521  republican         72883.0       95215  20191203  0.765457       1  \n",
       "40524  republican          5454.0       10469  20191203  0.520967       1  \n",
       "40527  republican          6738.0        8819  20191203  0.764032       1  \n",
       "40530  republican         22859.0       25588  20191203  0.893348       1  \n",
       "...           ...             ...         ...       ...       ...     ...  \n",
       "50509    democrat          2421.0        5062  20191203  0.478269       1  \n",
       "50512    democrat          2758.0        5095  20191203  0.541315       1  \n",
       "50515    democrat          3142.0        5639  20191203  0.557191       1  \n",
       "50518    democrat          2338.0        4610  20191203  0.507158       1  \n",
       "50521    democrat           274.0        5056  20191203  0.054193       1  \n",
       "\n",
       "[3155 rows x 13 columns]"
      ],
      "text/html": "<div>\n<style scoped>\n    .dataframe tbody tr th:only-of-type {\n        vertical-align: middle;\n    }\n\n    .dataframe tbody tr th {\n        vertical-align: top;\n    }\n\n    .dataframe thead th {\n        text-align: right;\n    }\n</style>\n<table border=\"1\" class=\"dataframe\">\n  <thead>\n    <tr style=\"text-align: right;\">\n      <th></th>\n      <th>year</th>\n      <th>state</th>\n      <th>state_po</th>\n      <th>county</th>\n      <th>FIPS</th>\n      <th>office</th>\n      <th>candidate</th>\n      <th>party</th>\n      <th>candidatevotes</th>\n      <th>totalvotes</th>\n      <th>version</th>\n      <th>pctvotes</th>\n      <th>sorter</th>\n    </tr>\n  </thead>\n  <tbody>\n    <tr>\n      <th>40518</th>\n      <td>2016</td>\n      <td>Alabama</td>\n      <td>AL</td>\n      <td>Autauga</td>\n      <td>01001</td>\n      <td>President</td>\n      <td>Donald Trump</td>\n      <td>republican</td>\n      <td>18172.0</td>\n      <td>24973</td>\n      <td>20191203</td>\n      <td>0.727666</td>\n      <td>1</td>\n    </tr>\n    <tr>\n      <th>40521</th>\n      <td>2016</td>\n      <td>Alabama</td>\n      <td>AL</td>\n      <td>Baldwin</td>\n      <td>01003</td>\n      <td>President</td>\n      <td>Donald Trump</td>\n      <td>republican</td>\n      <td>72883.0</td>\n      <td>95215</td>\n      <td>20191203</td>\n      <td>0.765457</td>\n      <td>1</td>\n    </tr>\n    <tr>\n      <th>40524</th>\n      <td>2016</td>\n      <td>Alabama</td>\n      <td>AL</td>\n      <td>Barbour</td>\n      <td>01005</td>\n      <td>President</td>\n      <td>Donald Trump</td>\n      <td>republican</td>\n      <td>5454.0</td>\n      <td>10469</td>\n      <td>20191203</td>\n      <td>0.520967</td>\n      <td>1</td>\n    </tr>\n    <tr>\n      <th>40527</th>\n      <td>2016</td>\n      <td>Alabama</td>\n      <td>AL</td>\n      <td>Bibb</td>\n      <td>01007</td>\n      <td>President</td>\n      <td>Donald Trump</td>\n      <td>republican</td>\n      <td>6738.0</td>\n      <td>8819</td>\n      <td>20191203</td>\n      <td>0.764032</td>\n      <td>1</td>\n    </tr>\n    <tr>\n      <th>40530</th>\n      <td>2016</td>\n      <td>Alabama</td>\n      <td>AL</td>\n      <td>Blount</td>\n      <td>01009</td>\n      <td>President</td>\n      <td>Donald Trump</td>\n      <td>republican</td>\n      <td>22859.0</td>\n      <td>25588</td>\n      <td>20191203</td>\n      <td>0.893348</td>\n      <td>1</td>\n    </tr>\n    <tr>\n      <th>...</th>\n      <td>...</td>\n      <td>...</td>\n      <td>...</td>\n      <td>...</td>\n      <td>...</td>\n      <td>...</td>\n      <td>...</td>\n      <td>...</td>\n      <td>...</td>\n      <td>...</td>\n      <td>...</td>\n      <td>...</td>\n      <td>...</td>\n    </tr>\n    <tr>\n      <th>50509</th>\n      <td>2016</td>\n      <td>Alaska</td>\n      <td>AK</td>\n      <td>District 37</td>\n      <td>02037</td>\n      <td>President</td>\n      <td>Hillary Clinton</td>\n      <td>democrat</td>\n      <td>2421.0</td>\n      <td>5062</td>\n      <td>20191203</td>\n      <td>0.478269</td>\n      <td>1</td>\n    </tr>\n    <tr>\n      <th>50512</th>\n      <td>2016</td>\n      <td>Alaska</td>\n      <td>AK</td>\n      <td>District 38</td>\n      <td>02038</td>\n      <td>President</td>\n      <td>Hillary Clinton</td>\n      <td>democrat</td>\n      <td>2758.0</td>\n      <td>5095</td>\n      <td>20191203</td>\n      <td>0.541315</td>\n      <td>1</td>\n    </tr>\n    <tr>\n      <th>50515</th>\n      <td>2016</td>\n      <td>Alaska</td>\n      <td>AK</td>\n      <td>District 39</td>\n      <td>02039</td>\n      <td>President</td>\n      <td>Hillary Clinton</td>\n      <td>democrat</td>\n      <td>3142.0</td>\n      <td>5639</td>\n      <td>20191203</td>\n      <td>0.557191</td>\n      <td>1</td>\n    </tr>\n    <tr>\n      <th>50518</th>\n      <td>2016</td>\n      <td>Alaska</td>\n      <td>AK</td>\n      <td>District 40</td>\n      <td>02040</td>\n      <td>President</td>\n      <td>Hillary Clinton</td>\n      <td>democrat</td>\n      <td>2338.0</td>\n      <td>4610</td>\n      <td>20191203</td>\n      <td>0.507158</td>\n      <td>1</td>\n    </tr>\n    <tr>\n      <th>50521</th>\n      <td>2016</td>\n      <td>Alaska</td>\n      <td>NaN</td>\n      <td>District 99</td>\n      <td>02099</td>\n      <td>President</td>\n      <td>Hillary Clinton</td>\n      <td>democrat</td>\n      <td>274.0</td>\n      <td>5056</td>\n      <td>20191203</td>\n      <td>0.054193</td>\n      <td>1</td>\n    </tr>\n  </tbody>\n</table>\n<p>3155 rows × 13 columns</p>\n</div>"
     },
     "metadata": {},
     "execution_count": 46
    }
   ],
   "source": [
    "win = df2[df2.sorter == 1]\n",
    "win"
   ]
  },
  {
   "cell_type": "code",
   "execution_count": 47,
   "metadata": {},
   "outputs": [
    {
     "output_type": "execute_result",
     "data": {
      "text/plain": [
       "      state_po       county   FIPS        candidate       party  \\\n",
       "40518       AL      Autauga  01001     Donald Trump  republican   \n",
       "40521       AL      Baldwin  01003     Donald Trump  republican   \n",
       "40524       AL      Barbour  01005     Donald Trump  republican   \n",
       "40527       AL         Bibb  01007     Donald Trump  republican   \n",
       "40530       AL       Blount  01009     Donald Trump  republican   \n",
       "...        ...          ...    ...              ...         ...   \n",
       "50509       AK  District 37  02037  Hillary Clinton    democrat   \n",
       "50512       AK  District 38  02038  Hillary Clinton    democrat   \n",
       "50515       AK  District 39  02039  Hillary Clinton    democrat   \n",
       "50518       AK  District 40  02040  Hillary Clinton    democrat   \n",
       "50521      NaN  District 99  02099  Hillary Clinton    democrat   \n",
       "\n",
       "       candidatevotes  totalvotes  pctvotes  sorter  \n",
       "40518         18172.0       24973  0.727666       1  \n",
       "40521         72883.0       95215  0.765457       1  \n",
       "40524          5454.0       10469  0.520967       1  \n",
       "40527          6738.0        8819  0.764032       1  \n",
       "40530         22859.0       25588  0.893348       1  \n",
       "...               ...         ...       ...     ...  \n",
       "50509          2421.0        5062  0.478269       1  \n",
       "50512          2758.0        5095  0.541315       1  \n",
       "50515          3142.0        5639  0.557191       1  \n",
       "50518          2338.0        4610  0.507158       1  \n",
       "50521           274.0        5056  0.054193       1  \n",
       "\n",
       "[3155 rows x 9 columns]"
      ],
      "text/html": "<div>\n<style scoped>\n    .dataframe tbody tr th:only-of-type {\n        vertical-align: middle;\n    }\n\n    .dataframe tbody tr th {\n        vertical-align: top;\n    }\n\n    .dataframe thead th {\n        text-align: right;\n    }\n</style>\n<table border=\"1\" class=\"dataframe\">\n  <thead>\n    <tr style=\"text-align: right;\">\n      <th></th>\n      <th>state_po</th>\n      <th>county</th>\n      <th>FIPS</th>\n      <th>candidate</th>\n      <th>party</th>\n      <th>candidatevotes</th>\n      <th>totalvotes</th>\n      <th>pctvotes</th>\n      <th>sorter</th>\n    </tr>\n  </thead>\n  <tbody>\n    <tr>\n      <th>40518</th>\n      <td>AL</td>\n      <td>Autauga</td>\n      <td>01001</td>\n      <td>Donald Trump</td>\n      <td>republican</td>\n      <td>18172.0</td>\n      <td>24973</td>\n      <td>0.727666</td>\n      <td>1</td>\n    </tr>\n    <tr>\n      <th>40521</th>\n      <td>AL</td>\n      <td>Baldwin</td>\n      <td>01003</td>\n      <td>Donald Trump</td>\n      <td>republican</td>\n      <td>72883.0</td>\n      <td>95215</td>\n      <td>0.765457</td>\n      <td>1</td>\n    </tr>\n    <tr>\n      <th>40524</th>\n      <td>AL</td>\n      <td>Barbour</td>\n      <td>01005</td>\n      <td>Donald Trump</td>\n      <td>republican</td>\n      <td>5454.0</td>\n      <td>10469</td>\n      <td>0.520967</td>\n      <td>1</td>\n    </tr>\n    <tr>\n      <th>40527</th>\n      <td>AL</td>\n      <td>Bibb</td>\n      <td>01007</td>\n      <td>Donald Trump</td>\n      <td>republican</td>\n      <td>6738.0</td>\n      <td>8819</td>\n      <td>0.764032</td>\n      <td>1</td>\n    </tr>\n    <tr>\n      <th>40530</th>\n      <td>AL</td>\n      <td>Blount</td>\n      <td>01009</td>\n      <td>Donald Trump</td>\n      <td>republican</td>\n      <td>22859.0</td>\n      <td>25588</td>\n      <td>0.893348</td>\n      <td>1</td>\n    </tr>\n    <tr>\n      <th>...</th>\n      <td>...</td>\n      <td>...</td>\n      <td>...</td>\n      <td>...</td>\n      <td>...</td>\n      <td>...</td>\n      <td>...</td>\n      <td>...</td>\n      <td>...</td>\n    </tr>\n    <tr>\n      <th>50509</th>\n      <td>AK</td>\n      <td>District 37</td>\n      <td>02037</td>\n      <td>Hillary Clinton</td>\n      <td>democrat</td>\n      <td>2421.0</td>\n      <td>5062</td>\n      <td>0.478269</td>\n      <td>1</td>\n    </tr>\n    <tr>\n      <th>50512</th>\n      <td>AK</td>\n      <td>District 38</td>\n      <td>02038</td>\n      <td>Hillary Clinton</td>\n      <td>democrat</td>\n      <td>2758.0</td>\n      <td>5095</td>\n      <td>0.541315</td>\n      <td>1</td>\n    </tr>\n    <tr>\n      <th>50515</th>\n      <td>AK</td>\n      <td>District 39</td>\n      <td>02039</td>\n      <td>Hillary Clinton</td>\n      <td>democrat</td>\n      <td>3142.0</td>\n      <td>5639</td>\n      <td>0.557191</td>\n      <td>1</td>\n    </tr>\n    <tr>\n      <th>50518</th>\n      <td>AK</td>\n      <td>District 40</td>\n      <td>02040</td>\n      <td>Hillary Clinton</td>\n      <td>democrat</td>\n      <td>2338.0</td>\n      <td>4610</td>\n      <td>0.507158</td>\n      <td>1</td>\n    </tr>\n    <tr>\n      <th>50521</th>\n      <td>NaN</td>\n      <td>District 99</td>\n      <td>02099</td>\n      <td>Hillary Clinton</td>\n      <td>democrat</td>\n      <td>274.0</td>\n      <td>5056</td>\n      <td>0.054193</td>\n      <td>1</td>\n    </tr>\n  </tbody>\n</table>\n<p>3155 rows × 9 columns</p>\n</div>"
     },
     "metadata": {},
     "execution_count": 47
    }
   ],
   "source": [
    "win = win.drop(columns = ['year', 'state', 'office', 'version'])\n",
    "win"
   ]
  },
  {
   "cell_type": "code",
   "execution_count": 48,
   "metadata": {},
   "outputs": [
    {
     "output_type": "execute_result",
     "data": {
      "text/plain": [
       "state_po          1\n",
       "county            0\n",
       "FIPS              0\n",
       "candidate         0\n",
       "party             0\n",
       "candidatevotes    1\n",
       "totalvotes        0\n",
       "pctvotes          1\n",
       "sorter            0\n",
       "dtype: int64"
      ]
     },
     "metadata": {},
     "execution_count": 48
    }
   ],
   "source": [
    "win.isna().sum()"
   ]
  },
  {
   "cell_type": "code",
   "execution_count": 49,
   "metadata": {},
   "outputs": [],
   "source": [
    "win = win.dropna()"
   ]
  },
  {
   "cell_type": "code",
   "execution_count": 50,
   "metadata": {},
   "outputs": [
    {
     "output_type": "execute_result",
     "data": {
      "text/plain": [
       "state_po          0\n",
       "county            0\n",
       "FIPS              0\n",
       "candidate         0\n",
       "party             0\n",
       "candidatevotes    0\n",
       "totalvotes        0\n",
       "pctvotes          0\n",
       "sorter            0\n",
       "dtype: int64"
      ]
     },
     "metadata": {},
     "execution_count": 50
    }
   ],
   "source": [
    "win.isna().sum()"
   ]
  },
  {
   "cell_type": "code",
   "execution_count": 51,
   "metadata": {},
   "outputs": [],
   "source": [
    "wind = win[win.party == 'democrat']\n",
    "winr = win[win.party == 'republican']"
   ]
  },
  {
   "cell_type": "code",
   "execution_count": 52,
   "metadata": {},
   "outputs": [
    {
     "output_type": "execute_result",
     "data": {
      "text/plain": [
       "      state_po       county   FIPS        candidate     party  candidatevotes  \\\n",
       "40532       AL      Bullock  01011  Hillary Clinton  democrat          3530.0   \n",
       "40586       AL       Dallas  01047  Hillary Clinton  democrat         12836.0   \n",
       "40610       AL       Greene  01063  Hillary Clinton  democrat          4013.0   \n",
       "40613       AL         Hale  01065  Hillary Clinton  democrat          4775.0   \n",
       "40625       AL    Jefferson  01073  Hillary Clinton  democrat        156873.0   \n",
       "...        ...          ...    ...              ...       ...             ...   \n",
       "50500       AK  District 34  02034  Hillary Clinton  democrat          4220.0   \n",
       "50509       AK  District 37  02037  Hillary Clinton  democrat          2421.0   \n",
       "50512       AK  District 38  02038  Hillary Clinton  democrat          2758.0   \n",
       "50515       AK  District 39  02039  Hillary Clinton  democrat          3142.0   \n",
       "50518       AK  District 40  02040  Hillary Clinton  democrat          2338.0   \n",
       "\n",
       "       totalvotes  pctvotes  sorter  \n",
       "40532        4710  0.749469       1  \n",
       "40586       18792  0.683057       1  \n",
       "40610        4880  0.822336       1  \n",
       "40613        8040  0.593905       1  \n",
       "40625      304191  0.515706       1  \n",
       "...           ...       ...     ...  \n",
       "50500        9431  0.447461       1  \n",
       "50509        5062  0.478269       1  \n",
       "50512        5095  0.541315       1  \n",
       "50515        5639  0.557191       1  \n",
       "50518        4610  0.507158       1  \n",
       "\n",
       "[503 rows x 9 columns]"
      ],
      "text/html": "<div>\n<style scoped>\n    .dataframe tbody tr th:only-of-type {\n        vertical-align: middle;\n    }\n\n    .dataframe tbody tr th {\n        vertical-align: top;\n    }\n\n    .dataframe thead th {\n        text-align: right;\n    }\n</style>\n<table border=\"1\" class=\"dataframe\">\n  <thead>\n    <tr style=\"text-align: right;\">\n      <th></th>\n      <th>state_po</th>\n      <th>county</th>\n      <th>FIPS</th>\n      <th>candidate</th>\n      <th>party</th>\n      <th>candidatevotes</th>\n      <th>totalvotes</th>\n      <th>pctvotes</th>\n      <th>sorter</th>\n    </tr>\n  </thead>\n  <tbody>\n    <tr>\n      <th>40532</th>\n      <td>AL</td>\n      <td>Bullock</td>\n      <td>01011</td>\n      <td>Hillary Clinton</td>\n      <td>democrat</td>\n      <td>3530.0</td>\n      <td>4710</td>\n      <td>0.749469</td>\n      <td>1</td>\n    </tr>\n    <tr>\n      <th>40586</th>\n      <td>AL</td>\n      <td>Dallas</td>\n      <td>01047</td>\n      <td>Hillary Clinton</td>\n      <td>democrat</td>\n      <td>12836.0</td>\n      <td>18792</td>\n      <td>0.683057</td>\n      <td>1</td>\n    </tr>\n    <tr>\n      <th>40610</th>\n      <td>AL</td>\n      <td>Greene</td>\n      <td>01063</td>\n      <td>Hillary Clinton</td>\n      <td>democrat</td>\n      <td>4013.0</td>\n      <td>4880</td>\n      <td>0.822336</td>\n      <td>1</td>\n    </tr>\n    <tr>\n      <th>40613</th>\n      <td>AL</td>\n      <td>Hale</td>\n      <td>01065</td>\n      <td>Hillary Clinton</td>\n      <td>democrat</td>\n      <td>4775.0</td>\n      <td>8040</td>\n      <td>0.593905</td>\n      <td>1</td>\n    </tr>\n    <tr>\n      <th>40625</th>\n      <td>AL</td>\n      <td>Jefferson</td>\n      <td>01073</td>\n      <td>Hillary Clinton</td>\n      <td>democrat</td>\n      <td>156873.0</td>\n      <td>304191</td>\n      <td>0.515706</td>\n      <td>1</td>\n    </tr>\n    <tr>\n      <th>...</th>\n      <td>...</td>\n      <td>...</td>\n      <td>...</td>\n      <td>...</td>\n      <td>...</td>\n      <td>...</td>\n      <td>...</td>\n      <td>...</td>\n      <td>...</td>\n    </tr>\n    <tr>\n      <th>50500</th>\n      <td>AK</td>\n      <td>District 34</td>\n      <td>02034</td>\n      <td>Hillary Clinton</td>\n      <td>democrat</td>\n      <td>4220.0</td>\n      <td>9431</td>\n      <td>0.447461</td>\n      <td>1</td>\n    </tr>\n    <tr>\n      <th>50509</th>\n      <td>AK</td>\n      <td>District 37</td>\n      <td>02037</td>\n      <td>Hillary Clinton</td>\n      <td>democrat</td>\n      <td>2421.0</td>\n      <td>5062</td>\n      <td>0.478269</td>\n      <td>1</td>\n    </tr>\n    <tr>\n      <th>50512</th>\n      <td>AK</td>\n      <td>District 38</td>\n      <td>02038</td>\n      <td>Hillary Clinton</td>\n      <td>democrat</td>\n      <td>2758.0</td>\n      <td>5095</td>\n      <td>0.541315</td>\n      <td>1</td>\n    </tr>\n    <tr>\n      <th>50515</th>\n      <td>AK</td>\n      <td>District 39</td>\n      <td>02039</td>\n      <td>Hillary Clinton</td>\n      <td>democrat</td>\n      <td>3142.0</td>\n      <td>5639</td>\n      <td>0.557191</td>\n      <td>1</td>\n    </tr>\n    <tr>\n      <th>50518</th>\n      <td>AK</td>\n      <td>District 40</td>\n      <td>02040</td>\n      <td>Hillary Clinton</td>\n      <td>democrat</td>\n      <td>2338.0</td>\n      <td>4610</td>\n      <td>0.507158</td>\n      <td>1</td>\n    </tr>\n  </tbody>\n</table>\n<p>503 rows × 9 columns</p>\n</div>"
     },
     "metadata": {},
     "execution_count": 52
    }
   ],
   "source": [
    "wind"
   ]
  },
  {
   "cell_type": "code",
   "execution_count": 53,
   "metadata": {},
   "outputs": [],
   "source": [
    "wind['perc_dem'] = wind['pctvotes']\n",
    "wind['votes_dem'] = wind['candidatevotes']"
   ]
  },
  {
   "cell_type": "code",
   "execution_count": 54,
   "metadata": {},
   "outputs": [
    {
     "output_type": "execute_result",
     "data": {
      "text/plain": [
       "      state_po       county   FIPS        candidate     party  candidatevotes  \\\n",
       "40532       AL      Bullock  01011  Hillary Clinton  democrat          3530.0   \n",
       "40586       AL       Dallas  01047  Hillary Clinton  democrat         12836.0   \n",
       "40610       AL       Greene  01063  Hillary Clinton  democrat          4013.0   \n",
       "40613       AL         Hale  01065  Hillary Clinton  democrat          4775.0   \n",
       "40625       AL    Jefferson  01073  Hillary Clinton  democrat        156873.0   \n",
       "...        ...          ...    ...              ...       ...             ...   \n",
       "50500       AK  District 34  02034  Hillary Clinton  democrat          4220.0   \n",
       "50509       AK  District 37  02037  Hillary Clinton  democrat          2421.0   \n",
       "50512       AK  District 38  02038  Hillary Clinton  democrat          2758.0   \n",
       "50515       AK  District 39  02039  Hillary Clinton  democrat          3142.0   \n",
       "50518       AK  District 40  02040  Hillary Clinton  democrat          2338.0   \n",
       "\n",
       "       totalvotes  pctvotes  sorter  perc_dem  votes_dem  \n",
       "40532        4710  0.749469       1  0.749469     3530.0  \n",
       "40586       18792  0.683057       1  0.683057    12836.0  \n",
       "40610        4880  0.822336       1  0.822336     4013.0  \n",
       "40613        8040  0.593905       1  0.593905     4775.0  \n",
       "40625      304191  0.515706       1  0.515706   156873.0  \n",
       "...           ...       ...     ...       ...        ...  \n",
       "50500        9431  0.447461       1  0.447461     4220.0  \n",
       "50509        5062  0.478269       1  0.478269     2421.0  \n",
       "50512        5095  0.541315       1  0.541315     2758.0  \n",
       "50515        5639  0.557191       1  0.557191     3142.0  \n",
       "50518        4610  0.507158       1  0.507158     2338.0  \n",
       "\n",
       "[503 rows x 11 columns]"
      ],
      "text/html": "<div>\n<style scoped>\n    .dataframe tbody tr th:only-of-type {\n        vertical-align: middle;\n    }\n\n    .dataframe tbody tr th {\n        vertical-align: top;\n    }\n\n    .dataframe thead th {\n        text-align: right;\n    }\n</style>\n<table border=\"1\" class=\"dataframe\">\n  <thead>\n    <tr style=\"text-align: right;\">\n      <th></th>\n      <th>state_po</th>\n      <th>county</th>\n      <th>FIPS</th>\n      <th>candidate</th>\n      <th>party</th>\n      <th>candidatevotes</th>\n      <th>totalvotes</th>\n      <th>pctvotes</th>\n      <th>sorter</th>\n      <th>perc_dem</th>\n      <th>votes_dem</th>\n    </tr>\n  </thead>\n  <tbody>\n    <tr>\n      <th>40532</th>\n      <td>AL</td>\n      <td>Bullock</td>\n      <td>01011</td>\n      <td>Hillary Clinton</td>\n      <td>democrat</td>\n      <td>3530.0</td>\n      <td>4710</td>\n      <td>0.749469</td>\n      <td>1</td>\n      <td>0.749469</td>\n      <td>3530.0</td>\n    </tr>\n    <tr>\n      <th>40586</th>\n      <td>AL</td>\n      <td>Dallas</td>\n      <td>01047</td>\n      <td>Hillary Clinton</td>\n      <td>democrat</td>\n      <td>12836.0</td>\n      <td>18792</td>\n      <td>0.683057</td>\n      <td>1</td>\n      <td>0.683057</td>\n      <td>12836.0</td>\n    </tr>\n    <tr>\n      <th>40610</th>\n      <td>AL</td>\n      <td>Greene</td>\n      <td>01063</td>\n      <td>Hillary Clinton</td>\n      <td>democrat</td>\n      <td>4013.0</td>\n      <td>4880</td>\n      <td>0.822336</td>\n      <td>1</td>\n      <td>0.822336</td>\n      <td>4013.0</td>\n    </tr>\n    <tr>\n      <th>40613</th>\n      <td>AL</td>\n      <td>Hale</td>\n      <td>01065</td>\n      <td>Hillary Clinton</td>\n      <td>democrat</td>\n      <td>4775.0</td>\n      <td>8040</td>\n      <td>0.593905</td>\n      <td>1</td>\n      <td>0.593905</td>\n      <td>4775.0</td>\n    </tr>\n    <tr>\n      <th>40625</th>\n      <td>AL</td>\n      <td>Jefferson</td>\n      <td>01073</td>\n      <td>Hillary Clinton</td>\n      <td>democrat</td>\n      <td>156873.0</td>\n      <td>304191</td>\n      <td>0.515706</td>\n      <td>1</td>\n      <td>0.515706</td>\n      <td>156873.0</td>\n    </tr>\n    <tr>\n      <th>...</th>\n      <td>...</td>\n      <td>...</td>\n      <td>...</td>\n      <td>...</td>\n      <td>...</td>\n      <td>...</td>\n      <td>...</td>\n      <td>...</td>\n      <td>...</td>\n      <td>...</td>\n      <td>...</td>\n    </tr>\n    <tr>\n      <th>50500</th>\n      <td>AK</td>\n      <td>District 34</td>\n      <td>02034</td>\n      <td>Hillary Clinton</td>\n      <td>democrat</td>\n      <td>4220.0</td>\n      <td>9431</td>\n      <td>0.447461</td>\n      <td>1</td>\n      <td>0.447461</td>\n      <td>4220.0</td>\n    </tr>\n    <tr>\n      <th>50509</th>\n      <td>AK</td>\n      <td>District 37</td>\n      <td>02037</td>\n      <td>Hillary Clinton</td>\n      <td>democrat</td>\n      <td>2421.0</td>\n      <td>5062</td>\n      <td>0.478269</td>\n      <td>1</td>\n      <td>0.478269</td>\n      <td>2421.0</td>\n    </tr>\n    <tr>\n      <th>50512</th>\n      <td>AK</td>\n      <td>District 38</td>\n      <td>02038</td>\n      <td>Hillary Clinton</td>\n      <td>democrat</td>\n      <td>2758.0</td>\n      <td>5095</td>\n      <td>0.541315</td>\n      <td>1</td>\n      <td>0.541315</td>\n      <td>2758.0</td>\n    </tr>\n    <tr>\n      <th>50515</th>\n      <td>AK</td>\n      <td>District 39</td>\n      <td>02039</td>\n      <td>Hillary Clinton</td>\n      <td>democrat</td>\n      <td>3142.0</td>\n      <td>5639</td>\n      <td>0.557191</td>\n      <td>1</td>\n      <td>0.557191</td>\n      <td>3142.0</td>\n    </tr>\n    <tr>\n      <th>50518</th>\n      <td>AK</td>\n      <td>District 40</td>\n      <td>02040</td>\n      <td>Hillary Clinton</td>\n      <td>democrat</td>\n      <td>2338.0</td>\n      <td>4610</td>\n      <td>0.507158</td>\n      <td>1</td>\n      <td>0.507158</td>\n      <td>2338.0</td>\n    </tr>\n  </tbody>\n</table>\n<p>503 rows × 11 columns</p>\n</div>"
     },
     "metadata": {},
     "execution_count": 54
    }
   ],
   "source": [
    "wind"
   ]
  },
  {
   "cell_type": "code",
   "execution_count": 55,
   "metadata": {},
   "outputs": [],
   "source": [
    "winr['perc_rep'] = winr['pctvotes']\n",
    "winr['votes_rep'] = winr['candidatevotes']\n"
   ]
  },
  {
   "cell_type": "code",
   "execution_count": 56,
   "metadata": {},
   "outputs": [
    {
     "output_type": "execute_result",
     "data": {
      "text/plain": [
       "      state_po       county   FIPS     candidate       party  candidatevotes  \\\n",
       "40518       AL      Autauga  01001  Donald Trump  republican         18172.0   \n",
       "40521       AL      Baldwin  01003  Donald Trump  republican         72883.0   \n",
       "40524       AL      Barbour  01005  Donald Trump  republican          5454.0   \n",
       "40527       AL         Bibb  01007  Donald Trump  republican          6738.0   \n",
       "40530       AL       Blount  01009  Donald Trump  republican         22859.0   \n",
       "...        ...          ...    ...           ...         ...             ...   \n",
       "50489       AK  District 30  02030  Donald Trump  republican          6194.0   \n",
       "50492       AK  District 31  02031  Donald Trump  republican          5617.0   \n",
       "50495       AK  District 32  02032  Donald Trump  republican          3764.0   \n",
       "50504       AK  District 35  02035  Donald Trump  republican          4105.0   \n",
       "50507       AK  District 36  02036  Donald Trump  republican          4460.0   \n",
       "\n",
       "       totalvotes  pctvotes  sorter  perc_rep  votes_rep  \n",
       "40518       24973  0.727666       1  0.727666    18172.0  \n",
       "40521       95215  0.765457       1  0.765457    72883.0  \n",
       "40524       10469  0.520967       1  0.520967     5454.0  \n",
       "40527        8819  0.764032       1  0.764032     6738.0  \n",
       "40530       25588  0.893348       1  0.893348    22859.0  \n",
       "...           ...       ...     ...       ...        ...  \n",
       "50489        8950  0.692067       1  0.692067     6194.0  \n",
       "50492       10182  0.551660       1  0.551660     5617.0  \n",
       "50495        7472  0.503747       1  0.503747     3764.0  \n",
       "50504        9042  0.453992       1  0.453992     4105.0  \n",
       "50507        8264  0.539690       1  0.539690     4460.0  \n",
       "\n",
       "[2650 rows x 11 columns]"
      ],
      "text/html": "<div>\n<style scoped>\n    .dataframe tbody tr th:only-of-type {\n        vertical-align: middle;\n    }\n\n    .dataframe tbody tr th {\n        vertical-align: top;\n    }\n\n    .dataframe thead th {\n        text-align: right;\n    }\n</style>\n<table border=\"1\" class=\"dataframe\">\n  <thead>\n    <tr style=\"text-align: right;\">\n      <th></th>\n      <th>state_po</th>\n      <th>county</th>\n      <th>FIPS</th>\n      <th>candidate</th>\n      <th>party</th>\n      <th>candidatevotes</th>\n      <th>totalvotes</th>\n      <th>pctvotes</th>\n      <th>sorter</th>\n      <th>perc_rep</th>\n      <th>votes_rep</th>\n    </tr>\n  </thead>\n  <tbody>\n    <tr>\n      <th>40518</th>\n      <td>AL</td>\n      <td>Autauga</td>\n      <td>01001</td>\n      <td>Donald Trump</td>\n      <td>republican</td>\n      <td>18172.0</td>\n      <td>24973</td>\n      <td>0.727666</td>\n      <td>1</td>\n      <td>0.727666</td>\n      <td>18172.0</td>\n    </tr>\n    <tr>\n      <th>40521</th>\n      <td>AL</td>\n      <td>Baldwin</td>\n      <td>01003</td>\n      <td>Donald Trump</td>\n      <td>republican</td>\n      <td>72883.0</td>\n      <td>95215</td>\n      <td>0.765457</td>\n      <td>1</td>\n      <td>0.765457</td>\n      <td>72883.0</td>\n    </tr>\n    <tr>\n      <th>40524</th>\n      <td>AL</td>\n      <td>Barbour</td>\n      <td>01005</td>\n      <td>Donald Trump</td>\n      <td>republican</td>\n      <td>5454.0</td>\n      <td>10469</td>\n      <td>0.520967</td>\n      <td>1</td>\n      <td>0.520967</td>\n      <td>5454.0</td>\n    </tr>\n    <tr>\n      <th>40527</th>\n      <td>AL</td>\n      <td>Bibb</td>\n      <td>01007</td>\n      <td>Donald Trump</td>\n      <td>republican</td>\n      <td>6738.0</td>\n      <td>8819</td>\n      <td>0.764032</td>\n      <td>1</td>\n      <td>0.764032</td>\n      <td>6738.0</td>\n    </tr>\n    <tr>\n      <th>40530</th>\n      <td>AL</td>\n      <td>Blount</td>\n      <td>01009</td>\n      <td>Donald Trump</td>\n      <td>republican</td>\n      <td>22859.0</td>\n      <td>25588</td>\n      <td>0.893348</td>\n      <td>1</td>\n      <td>0.893348</td>\n      <td>22859.0</td>\n    </tr>\n    <tr>\n      <th>...</th>\n      <td>...</td>\n      <td>...</td>\n      <td>...</td>\n      <td>...</td>\n      <td>...</td>\n      <td>...</td>\n      <td>...</td>\n      <td>...</td>\n      <td>...</td>\n      <td>...</td>\n      <td>...</td>\n    </tr>\n    <tr>\n      <th>50489</th>\n      <td>AK</td>\n      <td>District 30</td>\n      <td>02030</td>\n      <td>Donald Trump</td>\n      <td>republican</td>\n      <td>6194.0</td>\n      <td>8950</td>\n      <td>0.692067</td>\n      <td>1</td>\n      <td>0.692067</td>\n      <td>6194.0</td>\n    </tr>\n    <tr>\n      <th>50492</th>\n      <td>AK</td>\n      <td>District 31</td>\n      <td>02031</td>\n      <td>Donald Trump</td>\n      <td>republican</td>\n      <td>5617.0</td>\n      <td>10182</td>\n      <td>0.551660</td>\n      <td>1</td>\n      <td>0.551660</td>\n      <td>5617.0</td>\n    </tr>\n    <tr>\n      <th>50495</th>\n      <td>AK</td>\n      <td>District 32</td>\n      <td>02032</td>\n      <td>Donald Trump</td>\n      <td>republican</td>\n      <td>3764.0</td>\n      <td>7472</td>\n      <td>0.503747</td>\n      <td>1</td>\n      <td>0.503747</td>\n      <td>3764.0</td>\n    </tr>\n    <tr>\n      <th>50504</th>\n      <td>AK</td>\n      <td>District 35</td>\n      <td>02035</td>\n      <td>Donald Trump</td>\n      <td>republican</td>\n      <td>4105.0</td>\n      <td>9042</td>\n      <td>0.453992</td>\n      <td>1</td>\n      <td>0.453992</td>\n      <td>4105.0</td>\n    </tr>\n    <tr>\n      <th>50507</th>\n      <td>AK</td>\n      <td>District 36</td>\n      <td>02036</td>\n      <td>Donald Trump</td>\n      <td>republican</td>\n      <td>4460.0</td>\n      <td>8264</td>\n      <td>0.539690</td>\n      <td>1</td>\n      <td>0.539690</td>\n      <td>4460.0</td>\n    </tr>\n  </tbody>\n</table>\n<p>2650 rows × 11 columns</p>\n</div>"
     },
     "metadata": {},
     "execution_count": 56
    }
   ],
   "source": [
    "winr"
   ]
  },
  {
   "cell_type": "code",
   "execution_count": 57,
   "metadata": {},
   "outputs": [
    {
     "output_type": "execute_result",
     "data": {
      "text/plain": [
       "       year    state state_po       county   FIPS     office        candidate  \\\n",
       "40517  2016  Alabama       AL      Autauga  01001  President  Hillary Clinton   \n",
       "40520  2016  Alabama       AL      Baldwin  01003  President  Hillary Clinton   \n",
       "40523  2016  Alabama       AL      Barbour  01005  President  Hillary Clinton   \n",
       "40526  2016  Alabama       AL         Bibb  01007  President  Hillary Clinton   \n",
       "40529  2016  Alabama       AL       Blount  01009  President  Hillary Clinton   \n",
       "...     ...      ...      ...          ...    ...        ...              ...   \n",
       "50510  2016   Alaska       AK  District 37  02037  President     Donald Trump   \n",
       "50514  2016   Alaska       AK  District 38  02038  President            Other   \n",
       "50516  2016   Alaska       AK  District 39  02039  President     Donald Trump   \n",
       "50519  2016   Alaska       AK  District 40  02040  President     Donald Trump   \n",
       "50522  2016   Alaska      NaN  District 99  02099  President     Donald Trump   \n",
       "\n",
       "            party  candidatevotes  totalvotes   version  pctvotes  sorter  \n",
       "40517    democrat          5936.0       24973  20191203  0.237697       2  \n",
       "40520    democrat         18458.0       95215  20191203  0.193856       2  \n",
       "40523    democrat          4871.0       10469  20191203  0.465278       2  \n",
       "40526    democrat          1874.0        8819  20191203  0.212496       2  \n",
       "40529    democrat          2156.0       25588  20191203  0.084258       2  \n",
       "...           ...             ...         ...       ...       ...     ...  \n",
       "50510  republican          1938.0        5062  20191203  0.382853       2  \n",
       "50514         NaN          1194.0        5095  20191203  0.234347       2  \n",
       "50516  republican          1405.0        5639  20191203  0.249158       2  \n",
       "50519  republican          1377.0        4610  20191203  0.298698       2  \n",
       "50522  republican            40.0        5056  20191203  0.007911       2  \n",
       "\n",
       "[3155 rows x 13 columns]"
      ],
      "text/html": "<div>\n<style scoped>\n    .dataframe tbody tr th:only-of-type {\n        vertical-align: middle;\n    }\n\n    .dataframe tbody tr th {\n        vertical-align: top;\n    }\n\n    .dataframe thead th {\n        text-align: right;\n    }\n</style>\n<table border=\"1\" class=\"dataframe\">\n  <thead>\n    <tr style=\"text-align: right;\">\n      <th></th>\n      <th>year</th>\n      <th>state</th>\n      <th>state_po</th>\n      <th>county</th>\n      <th>FIPS</th>\n      <th>office</th>\n      <th>candidate</th>\n      <th>party</th>\n      <th>candidatevotes</th>\n      <th>totalvotes</th>\n      <th>version</th>\n      <th>pctvotes</th>\n      <th>sorter</th>\n    </tr>\n  </thead>\n  <tbody>\n    <tr>\n      <th>40517</th>\n      <td>2016</td>\n      <td>Alabama</td>\n      <td>AL</td>\n      <td>Autauga</td>\n      <td>01001</td>\n      <td>President</td>\n      <td>Hillary Clinton</td>\n      <td>democrat</td>\n      <td>5936.0</td>\n      <td>24973</td>\n      <td>20191203</td>\n      <td>0.237697</td>\n      <td>2</td>\n    </tr>\n    <tr>\n      <th>40520</th>\n      <td>2016</td>\n      <td>Alabama</td>\n      <td>AL</td>\n      <td>Baldwin</td>\n      <td>01003</td>\n      <td>President</td>\n      <td>Hillary Clinton</td>\n      <td>democrat</td>\n      <td>18458.0</td>\n      <td>95215</td>\n      <td>20191203</td>\n      <td>0.193856</td>\n      <td>2</td>\n    </tr>\n    <tr>\n      <th>40523</th>\n      <td>2016</td>\n      <td>Alabama</td>\n      <td>AL</td>\n      <td>Barbour</td>\n      <td>01005</td>\n      <td>President</td>\n      <td>Hillary Clinton</td>\n      <td>democrat</td>\n      <td>4871.0</td>\n      <td>10469</td>\n      <td>20191203</td>\n      <td>0.465278</td>\n      <td>2</td>\n    </tr>\n    <tr>\n      <th>40526</th>\n      <td>2016</td>\n      <td>Alabama</td>\n      <td>AL</td>\n      <td>Bibb</td>\n      <td>01007</td>\n      <td>President</td>\n      <td>Hillary Clinton</td>\n      <td>democrat</td>\n      <td>1874.0</td>\n      <td>8819</td>\n      <td>20191203</td>\n      <td>0.212496</td>\n      <td>2</td>\n    </tr>\n    <tr>\n      <th>40529</th>\n      <td>2016</td>\n      <td>Alabama</td>\n      <td>AL</td>\n      <td>Blount</td>\n      <td>01009</td>\n      <td>President</td>\n      <td>Hillary Clinton</td>\n      <td>democrat</td>\n      <td>2156.0</td>\n      <td>25588</td>\n      <td>20191203</td>\n      <td>0.084258</td>\n      <td>2</td>\n    </tr>\n    <tr>\n      <th>...</th>\n      <td>...</td>\n      <td>...</td>\n      <td>...</td>\n      <td>...</td>\n      <td>...</td>\n      <td>...</td>\n      <td>...</td>\n      <td>...</td>\n      <td>...</td>\n      <td>...</td>\n      <td>...</td>\n      <td>...</td>\n      <td>...</td>\n    </tr>\n    <tr>\n      <th>50510</th>\n      <td>2016</td>\n      <td>Alaska</td>\n      <td>AK</td>\n      <td>District 37</td>\n      <td>02037</td>\n      <td>President</td>\n      <td>Donald Trump</td>\n      <td>republican</td>\n      <td>1938.0</td>\n      <td>5062</td>\n      <td>20191203</td>\n      <td>0.382853</td>\n      <td>2</td>\n    </tr>\n    <tr>\n      <th>50514</th>\n      <td>2016</td>\n      <td>Alaska</td>\n      <td>AK</td>\n      <td>District 38</td>\n      <td>02038</td>\n      <td>President</td>\n      <td>Other</td>\n      <td>NaN</td>\n      <td>1194.0</td>\n      <td>5095</td>\n      <td>20191203</td>\n      <td>0.234347</td>\n      <td>2</td>\n    </tr>\n    <tr>\n      <th>50516</th>\n      <td>2016</td>\n      <td>Alaska</td>\n      <td>AK</td>\n      <td>District 39</td>\n      <td>02039</td>\n      <td>President</td>\n      <td>Donald Trump</td>\n      <td>republican</td>\n      <td>1405.0</td>\n      <td>5639</td>\n      <td>20191203</td>\n      <td>0.249158</td>\n      <td>2</td>\n    </tr>\n    <tr>\n      <th>50519</th>\n      <td>2016</td>\n      <td>Alaska</td>\n      <td>AK</td>\n      <td>District 40</td>\n      <td>02040</td>\n      <td>President</td>\n      <td>Donald Trump</td>\n      <td>republican</td>\n      <td>1377.0</td>\n      <td>4610</td>\n      <td>20191203</td>\n      <td>0.298698</td>\n      <td>2</td>\n    </tr>\n    <tr>\n      <th>50522</th>\n      <td>2016</td>\n      <td>Alaska</td>\n      <td>NaN</td>\n      <td>District 99</td>\n      <td>02099</td>\n      <td>President</td>\n      <td>Donald Trump</td>\n      <td>republican</td>\n      <td>40.0</td>\n      <td>5056</td>\n      <td>20191203</td>\n      <td>0.007911</td>\n      <td>2</td>\n    </tr>\n  </tbody>\n</table>\n<p>3155 rows × 13 columns</p>\n</div>"
     },
     "metadata": {},
     "execution_count": 57
    }
   ],
   "source": [
    "lose = df2[df2.sorter == 2]\n",
    "lose"
   ]
  },
  {
   "cell_type": "code",
   "execution_count": 58,
   "metadata": {},
   "outputs": [
    {
     "output_type": "execute_result",
     "data": {
      "text/plain": [
       "year               0\n",
       "state              0\n",
       "state_po           1\n",
       "county             0\n",
       "FIPS               0\n",
       "office             0\n",
       "candidate          0\n",
       "party             32\n",
       "candidatevotes     1\n",
       "totalvotes         0\n",
       "version            0\n",
       "pctvotes           1\n",
       "sorter             0\n",
       "dtype: int64"
      ]
     },
     "metadata": {},
     "execution_count": 58
    }
   ],
   "source": [
    "lose.isna().sum()"
   ]
  },
  {
   "cell_type": "code",
   "execution_count": 59,
   "metadata": {},
   "outputs": [
    {
     "output_type": "execute_result",
     "data": {
      "text/plain": [
       "      state_po       county   FIPS        candidate       party  \\\n",
       "40517       AL      Autauga  01001  Hillary Clinton    democrat   \n",
       "40520       AL      Baldwin  01003  Hillary Clinton    democrat   \n",
       "40523       AL      Barbour  01005  Hillary Clinton    democrat   \n",
       "40526       AL         Bibb  01007  Hillary Clinton    democrat   \n",
       "40529       AL       Blount  01009  Hillary Clinton    democrat   \n",
       "...        ...          ...    ...              ...         ...   \n",
       "50510       AK  District 37  02037     Donald Trump  republican   \n",
       "50514       AK  District 38  02038            Other         NaN   \n",
       "50516       AK  District 39  02039     Donald Trump  republican   \n",
       "50519       AK  District 40  02040     Donald Trump  republican   \n",
       "50522      NaN  District 99  02099     Donald Trump  republican   \n",
       "\n",
       "       candidatevotes  totalvotes  pctvotes  sorter  \n",
       "40517          5936.0       24973  0.237697       2  \n",
       "40520         18458.0       95215  0.193856       2  \n",
       "40523          4871.0       10469  0.465278       2  \n",
       "40526          1874.0        8819  0.212496       2  \n",
       "40529          2156.0       25588  0.084258       2  \n",
       "...               ...         ...       ...     ...  \n",
       "50510          1938.0        5062  0.382853       2  \n",
       "50514          1194.0        5095  0.234347       2  \n",
       "50516          1405.0        5639  0.249158       2  \n",
       "50519          1377.0        4610  0.298698       2  \n",
       "50522            40.0        5056  0.007911       2  \n",
       "\n",
       "[3155 rows x 9 columns]"
      ],
      "text/html": "<div>\n<style scoped>\n    .dataframe tbody tr th:only-of-type {\n        vertical-align: middle;\n    }\n\n    .dataframe tbody tr th {\n        vertical-align: top;\n    }\n\n    .dataframe thead th {\n        text-align: right;\n    }\n</style>\n<table border=\"1\" class=\"dataframe\">\n  <thead>\n    <tr style=\"text-align: right;\">\n      <th></th>\n      <th>state_po</th>\n      <th>county</th>\n      <th>FIPS</th>\n      <th>candidate</th>\n      <th>party</th>\n      <th>candidatevotes</th>\n      <th>totalvotes</th>\n      <th>pctvotes</th>\n      <th>sorter</th>\n    </tr>\n  </thead>\n  <tbody>\n    <tr>\n      <th>40517</th>\n      <td>AL</td>\n      <td>Autauga</td>\n      <td>01001</td>\n      <td>Hillary Clinton</td>\n      <td>democrat</td>\n      <td>5936.0</td>\n      <td>24973</td>\n      <td>0.237697</td>\n      <td>2</td>\n    </tr>\n    <tr>\n      <th>40520</th>\n      <td>AL</td>\n      <td>Baldwin</td>\n      <td>01003</td>\n      <td>Hillary Clinton</td>\n      <td>democrat</td>\n      <td>18458.0</td>\n      <td>95215</td>\n      <td>0.193856</td>\n      <td>2</td>\n    </tr>\n    <tr>\n      <th>40523</th>\n      <td>AL</td>\n      <td>Barbour</td>\n      <td>01005</td>\n      <td>Hillary Clinton</td>\n      <td>democrat</td>\n      <td>4871.0</td>\n      <td>10469</td>\n      <td>0.465278</td>\n      <td>2</td>\n    </tr>\n    <tr>\n      <th>40526</th>\n      <td>AL</td>\n      <td>Bibb</td>\n      <td>01007</td>\n      <td>Hillary Clinton</td>\n      <td>democrat</td>\n      <td>1874.0</td>\n      <td>8819</td>\n      <td>0.212496</td>\n      <td>2</td>\n    </tr>\n    <tr>\n      <th>40529</th>\n      <td>AL</td>\n      <td>Blount</td>\n      <td>01009</td>\n      <td>Hillary Clinton</td>\n      <td>democrat</td>\n      <td>2156.0</td>\n      <td>25588</td>\n      <td>0.084258</td>\n      <td>2</td>\n    </tr>\n    <tr>\n      <th>...</th>\n      <td>...</td>\n      <td>...</td>\n      <td>...</td>\n      <td>...</td>\n      <td>...</td>\n      <td>...</td>\n      <td>...</td>\n      <td>...</td>\n      <td>...</td>\n    </tr>\n    <tr>\n      <th>50510</th>\n      <td>AK</td>\n      <td>District 37</td>\n      <td>02037</td>\n      <td>Donald Trump</td>\n      <td>republican</td>\n      <td>1938.0</td>\n      <td>5062</td>\n      <td>0.382853</td>\n      <td>2</td>\n    </tr>\n    <tr>\n      <th>50514</th>\n      <td>AK</td>\n      <td>District 38</td>\n      <td>02038</td>\n      <td>Other</td>\n      <td>NaN</td>\n      <td>1194.0</td>\n      <td>5095</td>\n      <td>0.234347</td>\n      <td>2</td>\n    </tr>\n    <tr>\n      <th>50516</th>\n      <td>AK</td>\n      <td>District 39</td>\n      <td>02039</td>\n      <td>Donald Trump</td>\n      <td>republican</td>\n      <td>1405.0</td>\n      <td>5639</td>\n      <td>0.249158</td>\n      <td>2</td>\n    </tr>\n    <tr>\n      <th>50519</th>\n      <td>AK</td>\n      <td>District 40</td>\n      <td>02040</td>\n      <td>Donald Trump</td>\n      <td>republican</td>\n      <td>1377.0</td>\n      <td>4610</td>\n      <td>0.298698</td>\n      <td>2</td>\n    </tr>\n    <tr>\n      <th>50522</th>\n      <td>NaN</td>\n      <td>District 99</td>\n      <td>02099</td>\n      <td>Donald Trump</td>\n      <td>republican</td>\n      <td>40.0</td>\n      <td>5056</td>\n      <td>0.007911</td>\n      <td>2</td>\n    </tr>\n  </tbody>\n</table>\n<p>3155 rows × 9 columns</p>\n</div>"
     },
     "metadata": {},
     "execution_count": 59
    }
   ],
   "source": [
    "lose = lose.drop(columns = ['year', 'state', 'office', 'version'])\n",
    "lose"
   ]
  },
  {
   "cell_type": "code",
   "execution_count": 60,
   "metadata": {},
   "outputs": [
    {
     "output_type": "execute_result",
     "data": {
      "text/plain": [
       "state_po           1\n",
       "county             0\n",
       "FIPS               0\n",
       "candidate          0\n",
       "party             32\n",
       "candidatevotes     1\n",
       "totalvotes         0\n",
       "pctvotes           1\n",
       "sorter             0\n",
       "dtype: int64"
      ]
     },
     "metadata": {},
     "execution_count": 60
    }
   ],
   "source": [
    "lose.isna().sum()"
   ]
  },
  {
   "cell_type": "code",
   "execution_count": 61,
   "metadata": {},
   "outputs": [],
   "source": [
    "losed = lose[lose.party == 'democrat']\n",
    "loser = lose[lose.party == 'republican']"
   ]
  },
  {
   "cell_type": "code",
   "execution_count": 62,
   "metadata": {},
   "outputs": [],
   "source": [
    "losed['perc_dem'] = losed['pctvotes']\n",
    "losed['votes_dem'] = losed['candidatevotes']\n",
    "loser['perc_rep'] = loser['pctvotes']\n",
    "loser['votes_rep'] = loser['candidatevotes']"
   ]
  },
  {
   "cell_type": "code",
   "execution_count": 63,
   "metadata": {},
   "outputs": [
    {
     "output_type": "execute_result",
     "data": {
      "text/plain": [
       "      state_po       county   FIPS        candidate     party  candidatevotes  \\\n",
       "40517       AL      Autauga  01001  Hillary Clinton  democrat          5936.0   \n",
       "40520       AL      Baldwin  01003  Hillary Clinton  democrat         18458.0   \n",
       "40523       AL      Barbour  01005  Hillary Clinton  democrat          4871.0   \n",
       "40526       AL         Bibb  01007  Hillary Clinton  democrat          1874.0   \n",
       "40529       AL       Blount  01009  Hillary Clinton  democrat          2156.0   \n",
       "...        ...          ...    ...              ...       ...             ...   \n",
       "50488       AK  District 30  02030  Hillary Clinton  democrat          1816.0   \n",
       "50491       AK  District 31  02031  Hillary Clinton  democrat          3466.0   \n",
       "50494       AK  District 32  02032  Hillary Clinton  democrat          2701.0   \n",
       "50503       AK  District 35  02035  Hillary Clinton  democrat          3749.0   \n",
       "50506       AK  District 36  02036  Hillary Clinton  democrat          2693.0   \n",
       "\n",
       "       totalvotes  pctvotes  sorter  perc_dem  votes_dem  \n",
       "40517       24973  0.237697       2  0.237697     5936.0  \n",
       "40520       95215  0.193856       2  0.193856    18458.0  \n",
       "40523       10469  0.465278       2  0.465278     4871.0  \n",
       "40526        8819  0.212496       2  0.212496     1874.0  \n",
       "40529       25588  0.084258       2  0.084258     2156.0  \n",
       "...           ...       ...     ...       ...        ...  \n",
       "50488        8950  0.202905       2  0.202905     1816.0  \n",
       "50491       10182  0.340405       2  0.340405     3466.0  \n",
       "50494        7472  0.361483       2  0.361483     2701.0  \n",
       "50503        9042  0.414621       2  0.414621     3749.0  \n",
       "50506        8264  0.325871       2  0.325871     2693.0  \n",
       "\n",
       "[2620 rows x 11 columns]"
      ],
      "text/html": "<div>\n<style scoped>\n    .dataframe tbody tr th:only-of-type {\n        vertical-align: middle;\n    }\n\n    .dataframe tbody tr th {\n        vertical-align: top;\n    }\n\n    .dataframe thead th {\n        text-align: right;\n    }\n</style>\n<table border=\"1\" class=\"dataframe\">\n  <thead>\n    <tr style=\"text-align: right;\">\n      <th></th>\n      <th>state_po</th>\n      <th>county</th>\n      <th>FIPS</th>\n      <th>candidate</th>\n      <th>party</th>\n      <th>candidatevotes</th>\n      <th>totalvotes</th>\n      <th>pctvotes</th>\n      <th>sorter</th>\n      <th>perc_dem</th>\n      <th>votes_dem</th>\n    </tr>\n  </thead>\n  <tbody>\n    <tr>\n      <th>40517</th>\n      <td>AL</td>\n      <td>Autauga</td>\n      <td>01001</td>\n      <td>Hillary Clinton</td>\n      <td>democrat</td>\n      <td>5936.0</td>\n      <td>24973</td>\n      <td>0.237697</td>\n      <td>2</td>\n      <td>0.237697</td>\n      <td>5936.0</td>\n    </tr>\n    <tr>\n      <th>40520</th>\n      <td>AL</td>\n      <td>Baldwin</td>\n      <td>01003</td>\n      <td>Hillary Clinton</td>\n      <td>democrat</td>\n      <td>18458.0</td>\n      <td>95215</td>\n      <td>0.193856</td>\n      <td>2</td>\n      <td>0.193856</td>\n      <td>18458.0</td>\n    </tr>\n    <tr>\n      <th>40523</th>\n      <td>AL</td>\n      <td>Barbour</td>\n      <td>01005</td>\n      <td>Hillary Clinton</td>\n      <td>democrat</td>\n      <td>4871.0</td>\n      <td>10469</td>\n      <td>0.465278</td>\n      <td>2</td>\n      <td>0.465278</td>\n      <td>4871.0</td>\n    </tr>\n    <tr>\n      <th>40526</th>\n      <td>AL</td>\n      <td>Bibb</td>\n      <td>01007</td>\n      <td>Hillary Clinton</td>\n      <td>democrat</td>\n      <td>1874.0</td>\n      <td>8819</td>\n      <td>0.212496</td>\n      <td>2</td>\n      <td>0.212496</td>\n      <td>1874.0</td>\n    </tr>\n    <tr>\n      <th>40529</th>\n      <td>AL</td>\n      <td>Blount</td>\n      <td>01009</td>\n      <td>Hillary Clinton</td>\n      <td>democrat</td>\n      <td>2156.0</td>\n      <td>25588</td>\n      <td>0.084258</td>\n      <td>2</td>\n      <td>0.084258</td>\n      <td>2156.0</td>\n    </tr>\n    <tr>\n      <th>...</th>\n      <td>...</td>\n      <td>...</td>\n      <td>...</td>\n      <td>...</td>\n      <td>...</td>\n      <td>...</td>\n      <td>...</td>\n      <td>...</td>\n      <td>...</td>\n      <td>...</td>\n      <td>...</td>\n    </tr>\n    <tr>\n      <th>50488</th>\n      <td>AK</td>\n      <td>District 30</td>\n      <td>02030</td>\n      <td>Hillary Clinton</td>\n      <td>democrat</td>\n      <td>1816.0</td>\n      <td>8950</td>\n      <td>0.202905</td>\n      <td>2</td>\n      <td>0.202905</td>\n      <td>1816.0</td>\n    </tr>\n    <tr>\n      <th>50491</th>\n      <td>AK</td>\n      <td>District 31</td>\n      <td>02031</td>\n      <td>Hillary Clinton</td>\n      <td>democrat</td>\n      <td>3466.0</td>\n      <td>10182</td>\n      <td>0.340405</td>\n      <td>2</td>\n      <td>0.340405</td>\n      <td>3466.0</td>\n    </tr>\n    <tr>\n      <th>50494</th>\n      <td>AK</td>\n      <td>District 32</td>\n      <td>02032</td>\n      <td>Hillary Clinton</td>\n      <td>democrat</td>\n      <td>2701.0</td>\n      <td>7472</td>\n      <td>0.361483</td>\n      <td>2</td>\n      <td>0.361483</td>\n      <td>2701.0</td>\n    </tr>\n    <tr>\n      <th>50503</th>\n      <td>AK</td>\n      <td>District 35</td>\n      <td>02035</td>\n      <td>Hillary Clinton</td>\n      <td>democrat</td>\n      <td>3749.0</td>\n      <td>9042</td>\n      <td>0.414621</td>\n      <td>2</td>\n      <td>0.414621</td>\n      <td>3749.0</td>\n    </tr>\n    <tr>\n      <th>50506</th>\n      <td>AK</td>\n      <td>District 36</td>\n      <td>02036</td>\n      <td>Hillary Clinton</td>\n      <td>democrat</td>\n      <td>2693.0</td>\n      <td>8264</td>\n      <td>0.325871</td>\n      <td>2</td>\n      <td>0.325871</td>\n      <td>2693.0</td>\n    </tr>\n  </tbody>\n</table>\n<p>2620 rows × 11 columns</p>\n</div>"
     },
     "metadata": {},
     "execution_count": 63
    }
   ],
   "source": [
    "losed"
   ]
  },
  {
   "cell_type": "code",
   "execution_count": 64,
   "metadata": {},
   "outputs": [],
   "source": [
    "one = winr.merge(losed[['FIPS', 'perc_dem', 'votes_dem']], on=\"FIPS\")"
   ]
  },
  {
   "cell_type": "code",
   "execution_count": 65,
   "metadata": {},
   "outputs": [
    {
     "output_type": "execute_result",
     "data": {
      "text/plain": [
       "     state_po       county   FIPS     candidate       party  candidatevotes  \\\n",
       "0          AL      Autauga  01001  Donald Trump  republican         18172.0   \n",
       "1          AL      Baldwin  01003  Donald Trump  republican         72883.0   \n",
       "2          AL      Barbour  01005  Donald Trump  republican          5454.0   \n",
       "3          AL         Bibb  01007  Donald Trump  republican          6738.0   \n",
       "4          AL       Blount  01009  Donald Trump  republican         22859.0   \n",
       "...       ...          ...    ...           ...         ...             ...   \n",
       "2615       AK  District 30  02030  Donald Trump  republican          6194.0   \n",
       "2616       AK  District 31  02031  Donald Trump  republican          5617.0   \n",
       "2617       AK  District 32  02032  Donald Trump  republican          3764.0   \n",
       "2618       AK  District 35  02035  Donald Trump  republican          4105.0   \n",
       "2619       AK  District 36  02036  Donald Trump  republican          4460.0   \n",
       "\n",
       "      totalvotes  pctvotes  sorter  perc_rep  votes_rep  perc_dem  votes_dem  \n",
       "0          24973  0.727666       1  0.727666    18172.0  0.237697     5936.0  \n",
       "1          95215  0.765457       1  0.765457    72883.0  0.193856    18458.0  \n",
       "2          10469  0.520967       1  0.520967     5454.0  0.465278     4871.0  \n",
       "3           8819  0.764032       1  0.764032     6738.0  0.212496     1874.0  \n",
       "4          25588  0.893348       1  0.893348    22859.0  0.084258     2156.0  \n",
       "...          ...       ...     ...       ...        ...       ...        ...  \n",
       "2615        8950  0.692067       1  0.692067     6194.0  0.202905     1816.0  \n",
       "2616       10182  0.551660       1  0.551660     5617.0  0.340405     3466.0  \n",
       "2617        7472  0.503747       1  0.503747     3764.0  0.361483     2701.0  \n",
       "2618        9042  0.453992       1  0.453992     4105.0  0.414621     3749.0  \n",
       "2619        8264  0.539690       1  0.539690     4460.0  0.325871     2693.0  \n",
       "\n",
       "[2620 rows x 13 columns]"
      ],
      "text/html": "<div>\n<style scoped>\n    .dataframe tbody tr th:only-of-type {\n        vertical-align: middle;\n    }\n\n    .dataframe tbody tr th {\n        vertical-align: top;\n    }\n\n    .dataframe thead th {\n        text-align: right;\n    }\n</style>\n<table border=\"1\" class=\"dataframe\">\n  <thead>\n    <tr style=\"text-align: right;\">\n      <th></th>\n      <th>state_po</th>\n      <th>county</th>\n      <th>FIPS</th>\n      <th>candidate</th>\n      <th>party</th>\n      <th>candidatevotes</th>\n      <th>totalvotes</th>\n      <th>pctvotes</th>\n      <th>sorter</th>\n      <th>perc_rep</th>\n      <th>votes_rep</th>\n      <th>perc_dem</th>\n      <th>votes_dem</th>\n    </tr>\n  </thead>\n  <tbody>\n    <tr>\n      <th>0</th>\n      <td>AL</td>\n      <td>Autauga</td>\n      <td>01001</td>\n      <td>Donald Trump</td>\n      <td>republican</td>\n      <td>18172.0</td>\n      <td>24973</td>\n      <td>0.727666</td>\n      <td>1</td>\n      <td>0.727666</td>\n      <td>18172.0</td>\n      <td>0.237697</td>\n      <td>5936.0</td>\n    </tr>\n    <tr>\n      <th>1</th>\n      <td>AL</td>\n      <td>Baldwin</td>\n      <td>01003</td>\n      <td>Donald Trump</td>\n      <td>republican</td>\n      <td>72883.0</td>\n      <td>95215</td>\n      <td>0.765457</td>\n      <td>1</td>\n      <td>0.765457</td>\n      <td>72883.0</td>\n      <td>0.193856</td>\n      <td>18458.0</td>\n    </tr>\n    <tr>\n      <th>2</th>\n      <td>AL</td>\n      <td>Barbour</td>\n      <td>01005</td>\n      <td>Donald Trump</td>\n      <td>republican</td>\n      <td>5454.0</td>\n      <td>10469</td>\n      <td>0.520967</td>\n      <td>1</td>\n      <td>0.520967</td>\n      <td>5454.0</td>\n      <td>0.465278</td>\n      <td>4871.0</td>\n    </tr>\n    <tr>\n      <th>3</th>\n      <td>AL</td>\n      <td>Bibb</td>\n      <td>01007</td>\n      <td>Donald Trump</td>\n      <td>republican</td>\n      <td>6738.0</td>\n      <td>8819</td>\n      <td>0.764032</td>\n      <td>1</td>\n      <td>0.764032</td>\n      <td>6738.0</td>\n      <td>0.212496</td>\n      <td>1874.0</td>\n    </tr>\n    <tr>\n      <th>4</th>\n      <td>AL</td>\n      <td>Blount</td>\n      <td>01009</td>\n      <td>Donald Trump</td>\n      <td>republican</td>\n      <td>22859.0</td>\n      <td>25588</td>\n      <td>0.893348</td>\n      <td>1</td>\n      <td>0.893348</td>\n      <td>22859.0</td>\n      <td>0.084258</td>\n      <td>2156.0</td>\n    </tr>\n    <tr>\n      <th>...</th>\n      <td>...</td>\n      <td>...</td>\n      <td>...</td>\n      <td>...</td>\n      <td>...</td>\n      <td>...</td>\n      <td>...</td>\n      <td>...</td>\n      <td>...</td>\n      <td>...</td>\n      <td>...</td>\n      <td>...</td>\n      <td>...</td>\n    </tr>\n    <tr>\n      <th>2615</th>\n      <td>AK</td>\n      <td>District 30</td>\n      <td>02030</td>\n      <td>Donald Trump</td>\n      <td>republican</td>\n      <td>6194.0</td>\n      <td>8950</td>\n      <td>0.692067</td>\n      <td>1</td>\n      <td>0.692067</td>\n      <td>6194.0</td>\n      <td>0.202905</td>\n      <td>1816.0</td>\n    </tr>\n    <tr>\n      <th>2616</th>\n      <td>AK</td>\n      <td>District 31</td>\n      <td>02031</td>\n      <td>Donald Trump</td>\n      <td>republican</td>\n      <td>5617.0</td>\n      <td>10182</td>\n      <td>0.551660</td>\n      <td>1</td>\n      <td>0.551660</td>\n      <td>5617.0</td>\n      <td>0.340405</td>\n      <td>3466.0</td>\n    </tr>\n    <tr>\n      <th>2617</th>\n      <td>AK</td>\n      <td>District 32</td>\n      <td>02032</td>\n      <td>Donald Trump</td>\n      <td>republican</td>\n      <td>3764.0</td>\n      <td>7472</td>\n      <td>0.503747</td>\n      <td>1</td>\n      <td>0.503747</td>\n      <td>3764.0</td>\n      <td>0.361483</td>\n      <td>2701.0</td>\n    </tr>\n    <tr>\n      <th>2618</th>\n      <td>AK</td>\n      <td>District 35</td>\n      <td>02035</td>\n      <td>Donald Trump</td>\n      <td>republican</td>\n      <td>4105.0</td>\n      <td>9042</td>\n      <td>0.453992</td>\n      <td>1</td>\n      <td>0.453992</td>\n      <td>4105.0</td>\n      <td>0.414621</td>\n      <td>3749.0</td>\n    </tr>\n    <tr>\n      <th>2619</th>\n      <td>AK</td>\n      <td>District 36</td>\n      <td>02036</td>\n      <td>Donald Trump</td>\n      <td>republican</td>\n      <td>4460.0</td>\n      <td>8264</td>\n      <td>0.539690</td>\n      <td>1</td>\n      <td>0.539690</td>\n      <td>4460.0</td>\n      <td>0.325871</td>\n      <td>2693.0</td>\n    </tr>\n  </tbody>\n</table>\n<p>2620 rows × 13 columns</p>\n</div>"
     },
     "metadata": {},
     "execution_count": 65
    }
   ],
   "source": [
    "one"
   ]
  },
  {
   "cell_type": "code",
   "execution_count": 66,
   "metadata": {},
   "outputs": [],
   "source": [
    "two = wind.merge(loser[['FIPS', 'perc_rep', 'votes_rep']], on=\"FIPS\")"
   ]
  },
  {
   "cell_type": "code",
   "execution_count": 67,
   "metadata": {},
   "outputs": [
    {
     "output_type": "execute_result",
     "data": {
      "text/plain": [
       "    state_po       county   FIPS        candidate     party  candidatevotes  \\\n",
       "0         AL      Bullock  01011  Hillary Clinton  democrat          3530.0   \n",
       "1         AL       Dallas  01047  Hillary Clinton  democrat         12836.0   \n",
       "2         AL       Greene  01063  Hillary Clinton  democrat          4013.0   \n",
       "3         AL         Hale  01065  Hillary Clinton  democrat          4775.0   \n",
       "4         AL    Jefferson  01073  Hillary Clinton  democrat        156873.0   \n",
       "..       ...          ...    ...              ...       ...             ...   \n",
       "496       AK  District 33  02033  Hillary Clinton  democrat          5978.0   \n",
       "497       AK  District 34  02034  Hillary Clinton  democrat          4220.0   \n",
       "498       AK  District 37  02037  Hillary Clinton  democrat          2421.0   \n",
       "499       AK  District 39  02039  Hillary Clinton  democrat          3142.0   \n",
       "500       AK  District 40  02040  Hillary Clinton  democrat          2338.0   \n",
       "\n",
       "     totalvotes  pctvotes  sorter  perc_dem  votes_dem  perc_rep  votes_rep  \n",
       "0          4710  0.749469       1  0.749469     3530.0  0.242038     1140.0  \n",
       "1         18792  0.683057       1  0.683057    12836.0  0.308057     5789.0  \n",
       "2          4880  0.822336       1  0.822336     4013.0  0.171721      838.0  \n",
       "3          8040  0.593905       1  0.593905     4775.0  0.394652     3173.0  \n",
       "4        304191  0.515706       1  0.515706   156873.0  0.443037   134768.0  \n",
       "..          ...       ...     ...       ...        ...       ...        ...  \n",
       "496        9934  0.601772       1  0.601772     5978.0  0.275015     2732.0  \n",
       "497        9431  0.447461       1  0.447461     4220.0  0.419362     3955.0  \n",
       "498        5062  0.478269       1  0.478269     2421.0  0.382853     1938.0  \n",
       "499        5639  0.557191       1  0.557191     3142.0  0.249158     1405.0  \n",
       "500        4610  0.507158       1  0.507158     2338.0  0.298698     1377.0  \n",
       "\n",
       "[501 rows x 13 columns]"
      ],
      "text/html": "<div>\n<style scoped>\n    .dataframe tbody tr th:only-of-type {\n        vertical-align: middle;\n    }\n\n    .dataframe tbody tr th {\n        vertical-align: top;\n    }\n\n    .dataframe thead th {\n        text-align: right;\n    }\n</style>\n<table border=\"1\" class=\"dataframe\">\n  <thead>\n    <tr style=\"text-align: right;\">\n      <th></th>\n      <th>state_po</th>\n      <th>county</th>\n      <th>FIPS</th>\n      <th>candidate</th>\n      <th>party</th>\n      <th>candidatevotes</th>\n      <th>totalvotes</th>\n      <th>pctvotes</th>\n      <th>sorter</th>\n      <th>perc_dem</th>\n      <th>votes_dem</th>\n      <th>perc_rep</th>\n      <th>votes_rep</th>\n    </tr>\n  </thead>\n  <tbody>\n    <tr>\n      <th>0</th>\n      <td>AL</td>\n      <td>Bullock</td>\n      <td>01011</td>\n      <td>Hillary Clinton</td>\n      <td>democrat</td>\n      <td>3530.0</td>\n      <td>4710</td>\n      <td>0.749469</td>\n      <td>1</td>\n      <td>0.749469</td>\n      <td>3530.0</td>\n      <td>0.242038</td>\n      <td>1140.0</td>\n    </tr>\n    <tr>\n      <th>1</th>\n      <td>AL</td>\n      <td>Dallas</td>\n      <td>01047</td>\n      <td>Hillary Clinton</td>\n      <td>democrat</td>\n      <td>12836.0</td>\n      <td>18792</td>\n      <td>0.683057</td>\n      <td>1</td>\n      <td>0.683057</td>\n      <td>12836.0</td>\n      <td>0.308057</td>\n      <td>5789.0</td>\n    </tr>\n    <tr>\n      <th>2</th>\n      <td>AL</td>\n      <td>Greene</td>\n      <td>01063</td>\n      <td>Hillary Clinton</td>\n      <td>democrat</td>\n      <td>4013.0</td>\n      <td>4880</td>\n      <td>0.822336</td>\n      <td>1</td>\n      <td>0.822336</td>\n      <td>4013.0</td>\n      <td>0.171721</td>\n      <td>838.0</td>\n    </tr>\n    <tr>\n      <th>3</th>\n      <td>AL</td>\n      <td>Hale</td>\n      <td>01065</td>\n      <td>Hillary Clinton</td>\n      <td>democrat</td>\n      <td>4775.0</td>\n      <td>8040</td>\n      <td>0.593905</td>\n      <td>1</td>\n      <td>0.593905</td>\n      <td>4775.0</td>\n      <td>0.394652</td>\n      <td>3173.0</td>\n    </tr>\n    <tr>\n      <th>4</th>\n      <td>AL</td>\n      <td>Jefferson</td>\n      <td>01073</td>\n      <td>Hillary Clinton</td>\n      <td>democrat</td>\n      <td>156873.0</td>\n      <td>304191</td>\n      <td>0.515706</td>\n      <td>1</td>\n      <td>0.515706</td>\n      <td>156873.0</td>\n      <td>0.443037</td>\n      <td>134768.0</td>\n    </tr>\n    <tr>\n      <th>...</th>\n      <td>...</td>\n      <td>...</td>\n      <td>...</td>\n      <td>...</td>\n      <td>...</td>\n      <td>...</td>\n      <td>...</td>\n      <td>...</td>\n      <td>...</td>\n      <td>...</td>\n      <td>...</td>\n      <td>...</td>\n      <td>...</td>\n    </tr>\n    <tr>\n      <th>496</th>\n      <td>AK</td>\n      <td>District 33</td>\n      <td>02033</td>\n      <td>Hillary Clinton</td>\n      <td>democrat</td>\n      <td>5978.0</td>\n      <td>9934</td>\n      <td>0.601772</td>\n      <td>1</td>\n      <td>0.601772</td>\n      <td>5978.0</td>\n      <td>0.275015</td>\n      <td>2732.0</td>\n    </tr>\n    <tr>\n      <th>497</th>\n      <td>AK</td>\n      <td>District 34</td>\n      <td>02034</td>\n      <td>Hillary Clinton</td>\n      <td>democrat</td>\n      <td>4220.0</td>\n      <td>9431</td>\n      <td>0.447461</td>\n      <td>1</td>\n      <td>0.447461</td>\n      <td>4220.0</td>\n      <td>0.419362</td>\n      <td>3955.0</td>\n    </tr>\n    <tr>\n      <th>498</th>\n      <td>AK</td>\n      <td>District 37</td>\n      <td>02037</td>\n      <td>Hillary Clinton</td>\n      <td>democrat</td>\n      <td>2421.0</td>\n      <td>5062</td>\n      <td>0.478269</td>\n      <td>1</td>\n      <td>0.478269</td>\n      <td>2421.0</td>\n      <td>0.382853</td>\n      <td>1938.0</td>\n    </tr>\n    <tr>\n      <th>499</th>\n      <td>AK</td>\n      <td>District 39</td>\n      <td>02039</td>\n      <td>Hillary Clinton</td>\n      <td>democrat</td>\n      <td>3142.0</td>\n      <td>5639</td>\n      <td>0.557191</td>\n      <td>1</td>\n      <td>0.557191</td>\n      <td>3142.0</td>\n      <td>0.249158</td>\n      <td>1405.0</td>\n    </tr>\n    <tr>\n      <th>500</th>\n      <td>AK</td>\n      <td>District 40</td>\n      <td>02040</td>\n      <td>Hillary Clinton</td>\n      <td>democrat</td>\n      <td>2338.0</td>\n      <td>4610</td>\n      <td>0.507158</td>\n      <td>1</td>\n      <td>0.507158</td>\n      <td>2338.0</td>\n      <td>0.298698</td>\n      <td>1377.0</td>\n    </tr>\n  </tbody>\n</table>\n<p>501 rows × 13 columns</p>\n</div>"
     },
     "metadata": {},
     "execution_count": 67
    }
   ],
   "source": [
    "two"
   ]
  },
  {
   "cell_type": "code",
   "execution_count": 68,
   "metadata": {},
   "outputs": [],
   "source": [
    "df = pd.concat([one, two])"
   ]
  },
  {
   "cell_type": "code",
   "execution_count": 69,
   "metadata": {},
   "outputs": [
    {
     "output_type": "execute_result",
     "data": {
      "text/plain": [
       "    state_po       county   FIPS        candidate       party  candidatevotes  \\\n",
       "0         AL      Autauga  01001     Donald Trump  republican         18172.0   \n",
       "1         AL      Baldwin  01003     Donald Trump  republican         72883.0   \n",
       "2         AL      Barbour  01005     Donald Trump  republican          5454.0   \n",
       "3         AL         Bibb  01007     Donald Trump  republican          6738.0   \n",
       "4         AL       Blount  01009     Donald Trump  republican         22859.0   \n",
       "..       ...          ...    ...              ...         ...             ...   \n",
       "496       AK  District 33  02033  Hillary Clinton    democrat          5978.0   \n",
       "497       AK  District 34  02034  Hillary Clinton    democrat          4220.0   \n",
       "498       AK  District 37  02037  Hillary Clinton    democrat          2421.0   \n",
       "499       AK  District 39  02039  Hillary Clinton    democrat          3142.0   \n",
       "500       AK  District 40  02040  Hillary Clinton    democrat          2338.0   \n",
       "\n",
       "     totalvotes  pctvotes  sorter  perc_rep  votes_rep  perc_dem  votes_dem  \n",
       "0         24973  0.727666       1  0.727666    18172.0  0.237697     5936.0  \n",
       "1         95215  0.765457       1  0.765457    72883.0  0.193856    18458.0  \n",
       "2         10469  0.520967       1  0.520967     5454.0  0.465278     4871.0  \n",
       "3          8819  0.764032       1  0.764032     6738.0  0.212496     1874.0  \n",
       "4         25588  0.893348       1  0.893348    22859.0  0.084258     2156.0  \n",
       "..          ...       ...     ...       ...        ...       ...        ...  \n",
       "496        9934  0.601772       1  0.275015     2732.0  0.601772     5978.0  \n",
       "497        9431  0.447461       1  0.419362     3955.0  0.447461     4220.0  \n",
       "498        5062  0.478269       1  0.382853     1938.0  0.478269     2421.0  \n",
       "499        5639  0.557191       1  0.249158     1405.0  0.557191     3142.0  \n",
       "500        4610  0.507158       1  0.298698     1377.0  0.507158     2338.0  \n",
       "\n",
       "[3121 rows x 13 columns]"
      ],
      "text/html": "<div>\n<style scoped>\n    .dataframe tbody tr th:only-of-type {\n        vertical-align: middle;\n    }\n\n    .dataframe tbody tr th {\n        vertical-align: top;\n    }\n\n    .dataframe thead th {\n        text-align: right;\n    }\n</style>\n<table border=\"1\" class=\"dataframe\">\n  <thead>\n    <tr style=\"text-align: right;\">\n      <th></th>\n      <th>state_po</th>\n      <th>county</th>\n      <th>FIPS</th>\n      <th>candidate</th>\n      <th>party</th>\n      <th>candidatevotes</th>\n      <th>totalvotes</th>\n      <th>pctvotes</th>\n      <th>sorter</th>\n      <th>perc_rep</th>\n      <th>votes_rep</th>\n      <th>perc_dem</th>\n      <th>votes_dem</th>\n    </tr>\n  </thead>\n  <tbody>\n    <tr>\n      <th>0</th>\n      <td>AL</td>\n      <td>Autauga</td>\n      <td>01001</td>\n      <td>Donald Trump</td>\n      <td>republican</td>\n      <td>18172.0</td>\n      <td>24973</td>\n      <td>0.727666</td>\n      <td>1</td>\n      <td>0.727666</td>\n      <td>18172.0</td>\n      <td>0.237697</td>\n      <td>5936.0</td>\n    </tr>\n    <tr>\n      <th>1</th>\n      <td>AL</td>\n      <td>Baldwin</td>\n      <td>01003</td>\n      <td>Donald Trump</td>\n      <td>republican</td>\n      <td>72883.0</td>\n      <td>95215</td>\n      <td>0.765457</td>\n      <td>1</td>\n      <td>0.765457</td>\n      <td>72883.0</td>\n      <td>0.193856</td>\n      <td>18458.0</td>\n    </tr>\n    <tr>\n      <th>2</th>\n      <td>AL</td>\n      <td>Barbour</td>\n      <td>01005</td>\n      <td>Donald Trump</td>\n      <td>republican</td>\n      <td>5454.0</td>\n      <td>10469</td>\n      <td>0.520967</td>\n      <td>1</td>\n      <td>0.520967</td>\n      <td>5454.0</td>\n      <td>0.465278</td>\n      <td>4871.0</td>\n    </tr>\n    <tr>\n      <th>3</th>\n      <td>AL</td>\n      <td>Bibb</td>\n      <td>01007</td>\n      <td>Donald Trump</td>\n      <td>republican</td>\n      <td>6738.0</td>\n      <td>8819</td>\n      <td>0.764032</td>\n      <td>1</td>\n      <td>0.764032</td>\n      <td>6738.0</td>\n      <td>0.212496</td>\n      <td>1874.0</td>\n    </tr>\n    <tr>\n      <th>4</th>\n      <td>AL</td>\n      <td>Blount</td>\n      <td>01009</td>\n      <td>Donald Trump</td>\n      <td>republican</td>\n      <td>22859.0</td>\n      <td>25588</td>\n      <td>0.893348</td>\n      <td>1</td>\n      <td>0.893348</td>\n      <td>22859.0</td>\n      <td>0.084258</td>\n      <td>2156.0</td>\n    </tr>\n    <tr>\n      <th>...</th>\n      <td>...</td>\n      <td>...</td>\n      <td>...</td>\n      <td>...</td>\n      <td>...</td>\n      <td>...</td>\n      <td>...</td>\n      <td>...</td>\n      <td>...</td>\n      <td>...</td>\n      <td>...</td>\n      <td>...</td>\n      <td>...</td>\n    </tr>\n    <tr>\n      <th>496</th>\n      <td>AK</td>\n      <td>District 33</td>\n      <td>02033</td>\n      <td>Hillary Clinton</td>\n      <td>democrat</td>\n      <td>5978.0</td>\n      <td>9934</td>\n      <td>0.601772</td>\n      <td>1</td>\n      <td>0.275015</td>\n      <td>2732.0</td>\n      <td>0.601772</td>\n      <td>5978.0</td>\n    </tr>\n    <tr>\n      <th>497</th>\n      <td>AK</td>\n      <td>District 34</td>\n      <td>02034</td>\n      <td>Hillary Clinton</td>\n      <td>democrat</td>\n      <td>4220.0</td>\n      <td>9431</td>\n      <td>0.447461</td>\n      <td>1</td>\n      <td>0.419362</td>\n      <td>3955.0</td>\n      <td>0.447461</td>\n      <td>4220.0</td>\n    </tr>\n    <tr>\n      <th>498</th>\n      <td>AK</td>\n      <td>District 37</td>\n      <td>02037</td>\n      <td>Hillary Clinton</td>\n      <td>democrat</td>\n      <td>2421.0</td>\n      <td>5062</td>\n      <td>0.478269</td>\n      <td>1</td>\n      <td>0.382853</td>\n      <td>1938.0</td>\n      <td>0.478269</td>\n      <td>2421.0</td>\n    </tr>\n    <tr>\n      <th>499</th>\n      <td>AK</td>\n      <td>District 39</td>\n      <td>02039</td>\n      <td>Hillary Clinton</td>\n      <td>democrat</td>\n      <td>3142.0</td>\n      <td>5639</td>\n      <td>0.557191</td>\n      <td>1</td>\n      <td>0.249158</td>\n      <td>1405.0</td>\n      <td>0.557191</td>\n      <td>3142.0</td>\n    </tr>\n    <tr>\n      <th>500</th>\n      <td>AK</td>\n      <td>District 40</td>\n      <td>02040</td>\n      <td>Hillary Clinton</td>\n      <td>democrat</td>\n      <td>2338.0</td>\n      <td>4610</td>\n      <td>0.507158</td>\n      <td>1</td>\n      <td>0.298698</td>\n      <td>1377.0</td>\n      <td>0.507158</td>\n      <td>2338.0</td>\n    </tr>\n  </tbody>\n</table>\n<p>3121 rows × 13 columns</p>\n</div>"
     },
     "metadata": {},
     "execution_count": 69
    }
   ],
   "source": [
    "df"
   ]
  },
  {
   "cell_type": "code",
   "execution_count": 70,
   "metadata": {},
   "outputs": [],
   "source": [
    "df['votes_diff'] = df['votes_dem'] - df['votes_rep']\n",
    "df['pct_diff'] = df['votes_diff'] / df['totalvotes']\n",
    "df['pct_rep'] = round(df.perc_rep * 100, 2)\n",
    "df['pct_dem'] = round(df.perc_dem * 100, 2)\n",
    "df['pct_dif'] = round(df.pct_diff * 100, 2)\n",
    "df = df.drop(columns=['state_po', 'sorter', 'perc_dem', 'perc_rep', 'pct_diff'])"
   ]
  },
  {
   "cell_type": "code",
   "execution_count": 79,
   "metadata": {},
   "outputs": [],
   "source": [
    "df = df.drop(columns=['pctvotes', 'candidatevotes'])"
   ]
  },
  {
   "cell_type": "code",
   "execution_count": 81,
   "metadata": {},
   "outputs": [
    {
     "output_type": "execute_result",
     "data": {
      "text/plain": [
       "    county   FIPS     candidate       party  totalvotes  votes_rep  votes_dem  \\\n",
       "0  Autauga  01001  Donald Trump  republican       24973    18172.0     5936.0   \n",
       "1  Baldwin  01003  Donald Trump  republican       95215    72883.0    18458.0   \n",
       "2  Barbour  01005  Donald Trump  republican       10469     5454.0     4871.0   \n",
       "3     Bibb  01007  Donald Trump  republican        8819     6738.0     1874.0   \n",
       "4   Blount  01009  Donald Trump  republican       25588    22859.0     2156.0   \n",
       "\n",
       "   votes_diff  pct_rep  pct_dem  pct_dif  \n",
       "0    -12236.0    72.77    23.77   -49.00  \n",
       "1    -54425.0    76.55    19.39   -57.16  \n",
       "2      -583.0    52.10    46.53    -5.57  \n",
       "3     -4864.0    76.40    21.25   -55.15  \n",
       "4    -20703.0    89.33     8.43   -80.91  "
      ],
      "text/html": "<div>\n<style scoped>\n    .dataframe tbody tr th:only-of-type {\n        vertical-align: middle;\n    }\n\n    .dataframe tbody tr th {\n        vertical-align: top;\n    }\n\n    .dataframe thead th {\n        text-align: right;\n    }\n</style>\n<table border=\"1\" class=\"dataframe\">\n  <thead>\n    <tr style=\"text-align: right;\">\n      <th></th>\n      <th>county</th>\n      <th>FIPS</th>\n      <th>candidate</th>\n      <th>party</th>\n      <th>totalvotes</th>\n      <th>votes_rep</th>\n      <th>votes_dem</th>\n      <th>votes_diff</th>\n      <th>pct_rep</th>\n      <th>pct_dem</th>\n      <th>pct_dif</th>\n    </tr>\n  </thead>\n  <tbody>\n    <tr>\n      <th>0</th>\n      <td>Autauga</td>\n      <td>01001</td>\n      <td>Donald Trump</td>\n      <td>republican</td>\n      <td>24973</td>\n      <td>18172.0</td>\n      <td>5936.0</td>\n      <td>-12236.0</td>\n      <td>72.77</td>\n      <td>23.77</td>\n      <td>-49.00</td>\n    </tr>\n    <tr>\n      <th>1</th>\n      <td>Baldwin</td>\n      <td>01003</td>\n      <td>Donald Trump</td>\n      <td>republican</td>\n      <td>95215</td>\n      <td>72883.0</td>\n      <td>18458.0</td>\n      <td>-54425.0</td>\n      <td>76.55</td>\n      <td>19.39</td>\n      <td>-57.16</td>\n    </tr>\n    <tr>\n      <th>2</th>\n      <td>Barbour</td>\n      <td>01005</td>\n      <td>Donald Trump</td>\n      <td>republican</td>\n      <td>10469</td>\n      <td>5454.0</td>\n      <td>4871.0</td>\n      <td>-583.0</td>\n      <td>52.10</td>\n      <td>46.53</td>\n      <td>-5.57</td>\n    </tr>\n    <tr>\n      <th>3</th>\n      <td>Bibb</td>\n      <td>01007</td>\n      <td>Donald Trump</td>\n      <td>republican</td>\n      <td>8819</td>\n      <td>6738.0</td>\n      <td>1874.0</td>\n      <td>-4864.0</td>\n      <td>76.40</td>\n      <td>21.25</td>\n      <td>-55.15</td>\n    </tr>\n    <tr>\n      <th>4</th>\n      <td>Blount</td>\n      <td>01009</td>\n      <td>Donald Trump</td>\n      <td>republican</td>\n      <td>25588</td>\n      <td>22859.0</td>\n      <td>2156.0</td>\n      <td>-20703.0</td>\n      <td>89.33</td>\n      <td>8.43</td>\n      <td>-80.91</td>\n    </tr>\n  </tbody>\n</table>\n</div>"
     },
     "metadata": {},
     "execution_count": 81
    }
   ],
   "source": [
    "df.head()"
   ]
  },
  {
   "cell_type": "code",
   "execution_count": 93,
   "metadata": {},
   "outputs": [],
   "source": [
    "df_2016 = df.copy()"
   ]
  },
  {
   "cell_type": "code",
   "execution_count": 94,
   "metadata": {},
   "outputs": [],
   "source": [
    "df_2016.to_csv(\"2016.csv\")"
   ]
  },
  {
   "cell_type": "code",
   "execution_count": 82,
   "metadata": {},
   "outputs": [
    {
     "output_type": "execute_result",
     "data": {
      "text/plain": [
       "       year    state state_po       county    FIPS     office  \\\n",
       "0      2000  Alabama       AL      Autauga  1001.0  President   \n",
       "1      2000  Alabama       AL      Autauga  1001.0  President   \n",
       "2      2000  Alabama       AL      Autauga  1001.0  President   \n",
       "3      2000  Alabama       AL      Autauga  1001.0  President   \n",
       "4      2000  Alabama       AL      Baldwin  1003.0  President   \n",
       "...     ...      ...      ...          ...     ...        ...   \n",
       "50519  2016   Alaska       AK  District 40  2040.0  President   \n",
       "50520  2016   Alaska       AK  District 40  2040.0  President   \n",
       "50521  2016   Alaska      NaN  District 99  2099.0  President   \n",
       "50522  2016   Alaska      NaN  District 99  2099.0  President   \n",
       "50523  2016   Alaska      NaN  District 99  2099.0  President   \n",
       "\n",
       "             candidate       party  candidatevotes  totalvotes   version  \n",
       "0              Al Gore    democrat          4942.0       17208  20191203  \n",
       "1       George W. Bush  republican         11993.0       17208  20191203  \n",
       "2          Ralph Nader       green           160.0       17208  20191203  \n",
       "3                Other         NaN           113.0       17208  20191203  \n",
       "4              Al Gore    democrat         13997.0       56480  20191203  \n",
       "...                ...         ...             ...         ...       ...  \n",
       "50519     Donald Trump  republican          1377.0        4610  20191203  \n",
       "50520            Other         NaN           895.0        4610  20191203  \n",
       "50521  Hillary Clinton    democrat           274.0        5056  20191203  \n",
       "50522     Donald Trump  republican            40.0        5056  20191203  \n",
       "50523            Other         NaN            28.0        5056  20191203  \n",
       "\n",
       "[50524 rows x 11 columns]"
      ],
      "text/html": "<div>\n<style scoped>\n    .dataframe tbody tr th:only-of-type {\n        vertical-align: middle;\n    }\n\n    .dataframe tbody tr th {\n        vertical-align: top;\n    }\n\n    .dataframe thead th {\n        text-align: right;\n    }\n</style>\n<table border=\"1\" class=\"dataframe\">\n  <thead>\n    <tr style=\"text-align: right;\">\n      <th></th>\n      <th>year</th>\n      <th>state</th>\n      <th>state_po</th>\n      <th>county</th>\n      <th>FIPS</th>\n      <th>office</th>\n      <th>candidate</th>\n      <th>party</th>\n      <th>candidatevotes</th>\n      <th>totalvotes</th>\n      <th>version</th>\n    </tr>\n  </thead>\n  <tbody>\n    <tr>\n      <th>0</th>\n      <td>2000</td>\n      <td>Alabama</td>\n      <td>AL</td>\n      <td>Autauga</td>\n      <td>1001.0</td>\n      <td>President</td>\n      <td>Al Gore</td>\n      <td>democrat</td>\n      <td>4942.0</td>\n      <td>17208</td>\n      <td>20191203</td>\n    </tr>\n    <tr>\n      <th>1</th>\n      <td>2000</td>\n      <td>Alabama</td>\n      <td>AL</td>\n      <td>Autauga</td>\n      <td>1001.0</td>\n      <td>President</td>\n      <td>George W. Bush</td>\n      <td>republican</td>\n      <td>11993.0</td>\n      <td>17208</td>\n      <td>20191203</td>\n    </tr>\n    <tr>\n      <th>2</th>\n      <td>2000</td>\n      <td>Alabama</td>\n      <td>AL</td>\n      <td>Autauga</td>\n      <td>1001.0</td>\n      <td>President</td>\n      <td>Ralph Nader</td>\n      <td>green</td>\n      <td>160.0</td>\n      <td>17208</td>\n      <td>20191203</td>\n    </tr>\n    <tr>\n      <th>3</th>\n      <td>2000</td>\n      <td>Alabama</td>\n      <td>AL</td>\n      <td>Autauga</td>\n      <td>1001.0</td>\n      <td>President</td>\n      <td>Other</td>\n      <td>NaN</td>\n      <td>113.0</td>\n      <td>17208</td>\n      <td>20191203</td>\n    </tr>\n    <tr>\n      <th>4</th>\n      <td>2000</td>\n      <td>Alabama</td>\n      <td>AL</td>\n      <td>Baldwin</td>\n      <td>1003.0</td>\n      <td>President</td>\n      <td>Al Gore</td>\n      <td>democrat</td>\n      <td>13997.0</td>\n      <td>56480</td>\n      <td>20191203</td>\n    </tr>\n    <tr>\n      <th>...</th>\n      <td>...</td>\n      <td>...</td>\n      <td>...</td>\n      <td>...</td>\n      <td>...</td>\n      <td>...</td>\n      <td>...</td>\n      <td>...</td>\n      <td>...</td>\n      <td>...</td>\n      <td>...</td>\n    </tr>\n    <tr>\n      <th>50519</th>\n      <td>2016</td>\n      <td>Alaska</td>\n      <td>AK</td>\n      <td>District 40</td>\n      <td>2040.0</td>\n      <td>President</td>\n      <td>Donald Trump</td>\n      <td>republican</td>\n      <td>1377.0</td>\n      <td>4610</td>\n      <td>20191203</td>\n    </tr>\n    <tr>\n      <th>50520</th>\n      <td>2016</td>\n      <td>Alaska</td>\n      <td>AK</td>\n      <td>District 40</td>\n      <td>2040.0</td>\n      <td>President</td>\n      <td>Other</td>\n      <td>NaN</td>\n      <td>895.0</td>\n      <td>4610</td>\n      <td>20191203</td>\n    </tr>\n    <tr>\n      <th>50521</th>\n      <td>2016</td>\n      <td>Alaska</td>\n      <td>NaN</td>\n      <td>District 99</td>\n      <td>2099.0</td>\n      <td>President</td>\n      <td>Hillary Clinton</td>\n      <td>democrat</td>\n      <td>274.0</td>\n      <td>5056</td>\n      <td>20191203</td>\n    </tr>\n    <tr>\n      <th>50522</th>\n      <td>2016</td>\n      <td>Alaska</td>\n      <td>NaN</td>\n      <td>District 99</td>\n      <td>2099.0</td>\n      <td>President</td>\n      <td>Donald Trump</td>\n      <td>republican</td>\n      <td>40.0</td>\n      <td>5056</td>\n      <td>20191203</td>\n    </tr>\n    <tr>\n      <th>50523</th>\n      <td>2016</td>\n      <td>Alaska</td>\n      <td>NaN</td>\n      <td>District 99</td>\n      <td>2099.0</td>\n      <td>President</td>\n      <td>Other</td>\n      <td>NaN</td>\n      <td>28.0</td>\n      <td>5056</td>\n      <td>20191203</td>\n    </tr>\n  </tbody>\n</table>\n<p>50524 rows × 11 columns</p>\n</div>"
     },
     "metadata": {},
     "execution_count": 82
    }
   ],
   "source": [
    "df_year = pd.read_csv(\"countypres_2000-2016.csv\")\n",
    "df_year"
   ]
  },
  {
   "cell_type": "code",
   "execution_count": 86,
   "metadata": {},
   "outputs": [],
   "source": [
    "def preprocess_by_year(current_year, df):\n",
    "    df['pctvotes'] = df.candidatevotes / df.totalvotes\n",
    "    df = df[df.year == current_year]\n",
    "    df = df.dropna(subset=['FIPS'])\n",
    "    df.FIPS = df.FIPS.apply(lambda x: int(x))\n",
    "    df['sorter'] = df.sort_values(['candidatevotes'], ascending=False)\\\n",
    "                    .groupby(['FIPS'])\\\n",
    "                    .cumcount() + 1\n",
    "    df.FIPS = df.FIPS.apply(lambda x: str(x))\n",
    "    df.FIPS = df.FIPS.apply(lambda x: '0' + x if len(x)==4 else x)\n",
    "    lose = df[df.sorter == 2]\n",
    "    lose = lose.drop(columns = ['year', 'state', 'office', 'version'])\n",
    "    losed = lose[lose.party == 'democrat']\n",
    "    loser = lose[lose.party == 'republican']\n",
    "    losed['perc_dem'] = round(losed['pctvotes']*100, 2)\n",
    "    losed['votes_dem'] = losed['candidatevotes']\n",
    "    losed = losed.drop(columns=['candidatevotes', 'pctvotes', 'sorter', 'party'])\n",
    "    loser['perc_rep'] = round(loser['pctvotes']*100, 2)\n",
    "    loser['votes_rep'] = loser['candidatevotes']\n",
    "    loser = loser.drop(columns=['candidatevotes', 'pctvotes', 'sorter', 'party'])\n",
    "    win = df[df.sorter == 1]\n",
    "    win = win.drop(columns = ['year', 'state', 'office', 'version'])\n",
    "    wind = win[win.party == 'democrat']\n",
    "    winr = win[win.party == 'republican']\n",
    "    wind['perc_dem'] = round(wind['pctvotes']*100, 2)\n",
    "    wind['votes_dem'] = wind['candidatevotes']\n",
    "    wind = wind.drop(columns=['candidatevotes', 'pctvotes', 'sorter', 'party'])\n",
    "    winr['perc_rep'] = round(winr['pctvotes']*100, 2)\n",
    "    winr['votes_rep'] = winr['candidatevotes']\n",
    "    winr = winr.drop(columns=['candidatevotes', 'party', 'pctvotes', 'sorter']) \n",
    "    one = winr.merge(losed[['FIPS', 'perc_dem', 'votes_dem']], how='left', on=\"FIPS\")\n",
    "    two = wind.merge(loser[['FIPS', 'perc_rep', 'votes_rep']], how='left', on=\"FIPS\")\n",
    "    df = pd.concat([one, two])\n",
    "    df['votes_diff'] = df['votes_dem'] - df['votes_rep']\n",
    "    df['pct_diff'] = round((df['votes_diff'] / df['totalvotes'])*100, 2)\n",
    "    df.sort_values(by=['FIPS'])\n",
    "    return df"
   ]
  },
  {
   "cell_type": "code",
   "execution_count": 95,
   "metadata": {},
   "outputs": [],
   "source": [
    "df_2012 = preprocess_by_year(2012, df_year)"
   ]
  },
  {
   "cell_type": "code",
   "execution_count": 96,
   "metadata": {},
   "outputs": [
    {
     "output_type": "execute_result",
     "data": {
      "text/plain": [
       "    state_po       county   FIPS     candidate  totalvotes  perc_rep  \\\n",
       "0         AL      Autauga  01001   Mitt Romney       23932     72.62   \n",
       "1         AL      Baldwin  01003   Mitt Romney       85338     77.36   \n",
       "2         AL         Bibb  01007   Mitt Romney        8420     72.83   \n",
       "3         AL       Blount  01009   Mitt Romney       24006     86.47   \n",
       "4         AL       Butler  01013   Mitt Romney        9496     53.57   \n",
       "..       ...          ...    ...           ...         ...       ...   \n",
       "705       AK  District 37  02037  Barack Obama        4335     34.99   \n",
       "706       AK  District 38  02038  Barack Obama        6814     33.15   \n",
       "707       AK  District 39  02039  Barack Obama        6560     39.12   \n",
       "708       AK  District 40  02040  Barack Obama        4235     31.81   \n",
       "709      NaN  District 99  02099  Barack Obama       74045       NaN   \n",
       "\n",
       "     votes_rep  perc_dem  votes_dem  votes_diff  pct_diff  \n",
       "0      17379.0     26.59     6363.0    -11016.0    -46.03  \n",
       "1      66016.0     21.59    18424.0    -47592.0    -55.77  \n",
       "2       6132.0     26.15     2202.0     -3930.0    -46.67  \n",
       "3      20757.0     12.37     2970.0    -17787.0    -74.09  \n",
       "4       5087.0     46.06     4374.0      -713.0     -7.51  \n",
       "..         ...       ...        ...         ...       ...  \n",
       "705     1517.0     60.69     2631.0      1114.0     25.70  \n",
       "706     2259.0     60.18     4101.0      1842.0     27.03  \n",
       "707     2566.0     55.56     3645.0      1079.0     16.45  \n",
       "708     1347.0     64.16     2717.0      1370.0     32.35  \n",
       "709        NaN       NaN        NaN         NaN       NaN  \n",
       "\n",
       "[3155 rows x 11 columns]"
      ],
      "text/html": "<div>\n<style scoped>\n    .dataframe tbody tr th:only-of-type {\n        vertical-align: middle;\n    }\n\n    .dataframe tbody tr th {\n        vertical-align: top;\n    }\n\n    .dataframe thead th {\n        text-align: right;\n    }\n</style>\n<table border=\"1\" class=\"dataframe\">\n  <thead>\n    <tr style=\"text-align: right;\">\n      <th></th>\n      <th>state_po</th>\n      <th>county</th>\n      <th>FIPS</th>\n      <th>candidate</th>\n      <th>totalvotes</th>\n      <th>perc_rep</th>\n      <th>votes_rep</th>\n      <th>perc_dem</th>\n      <th>votes_dem</th>\n      <th>votes_diff</th>\n      <th>pct_diff</th>\n    </tr>\n  </thead>\n  <tbody>\n    <tr>\n      <th>0</th>\n      <td>AL</td>\n      <td>Autauga</td>\n      <td>01001</td>\n      <td>Mitt Romney</td>\n      <td>23932</td>\n      <td>72.62</td>\n      <td>17379.0</td>\n      <td>26.59</td>\n      <td>6363.0</td>\n      <td>-11016.0</td>\n      <td>-46.03</td>\n    </tr>\n    <tr>\n      <th>1</th>\n      <td>AL</td>\n      <td>Baldwin</td>\n      <td>01003</td>\n      <td>Mitt Romney</td>\n      <td>85338</td>\n      <td>77.36</td>\n      <td>66016.0</td>\n      <td>21.59</td>\n      <td>18424.0</td>\n      <td>-47592.0</td>\n      <td>-55.77</td>\n    </tr>\n    <tr>\n      <th>2</th>\n      <td>AL</td>\n      <td>Bibb</td>\n      <td>01007</td>\n      <td>Mitt Romney</td>\n      <td>8420</td>\n      <td>72.83</td>\n      <td>6132.0</td>\n      <td>26.15</td>\n      <td>2202.0</td>\n      <td>-3930.0</td>\n      <td>-46.67</td>\n    </tr>\n    <tr>\n      <th>3</th>\n      <td>AL</td>\n      <td>Blount</td>\n      <td>01009</td>\n      <td>Mitt Romney</td>\n      <td>24006</td>\n      <td>86.47</td>\n      <td>20757.0</td>\n      <td>12.37</td>\n      <td>2970.0</td>\n      <td>-17787.0</td>\n      <td>-74.09</td>\n    </tr>\n    <tr>\n      <th>4</th>\n      <td>AL</td>\n      <td>Butler</td>\n      <td>01013</td>\n      <td>Mitt Romney</td>\n      <td>9496</td>\n      <td>53.57</td>\n      <td>5087.0</td>\n      <td>46.06</td>\n      <td>4374.0</td>\n      <td>-713.0</td>\n      <td>-7.51</td>\n    </tr>\n    <tr>\n      <th>...</th>\n      <td>...</td>\n      <td>...</td>\n      <td>...</td>\n      <td>...</td>\n      <td>...</td>\n      <td>...</td>\n      <td>...</td>\n      <td>...</td>\n      <td>...</td>\n      <td>...</td>\n      <td>...</td>\n    </tr>\n    <tr>\n      <th>705</th>\n      <td>AK</td>\n      <td>District 37</td>\n      <td>02037</td>\n      <td>Barack Obama</td>\n      <td>4335</td>\n      <td>34.99</td>\n      <td>1517.0</td>\n      <td>60.69</td>\n      <td>2631.0</td>\n      <td>1114.0</td>\n      <td>25.70</td>\n    </tr>\n    <tr>\n      <th>706</th>\n      <td>AK</td>\n      <td>District 38</td>\n      <td>02038</td>\n      <td>Barack Obama</td>\n      <td>6814</td>\n      <td>33.15</td>\n      <td>2259.0</td>\n      <td>60.18</td>\n      <td>4101.0</td>\n      <td>1842.0</td>\n      <td>27.03</td>\n    </tr>\n    <tr>\n      <th>707</th>\n      <td>AK</td>\n      <td>District 39</td>\n      <td>02039</td>\n      <td>Barack Obama</td>\n      <td>6560</td>\n      <td>39.12</td>\n      <td>2566.0</td>\n      <td>55.56</td>\n      <td>3645.0</td>\n      <td>1079.0</td>\n      <td>16.45</td>\n    </tr>\n    <tr>\n      <th>708</th>\n      <td>AK</td>\n      <td>District 40</td>\n      <td>02040</td>\n      <td>Barack Obama</td>\n      <td>4235</td>\n      <td>31.81</td>\n      <td>1347.0</td>\n      <td>64.16</td>\n      <td>2717.0</td>\n      <td>1370.0</td>\n      <td>32.35</td>\n    </tr>\n    <tr>\n      <th>709</th>\n      <td>NaN</td>\n      <td>District 99</td>\n      <td>02099</td>\n      <td>Barack Obama</td>\n      <td>74045</td>\n      <td>NaN</td>\n      <td>NaN</td>\n      <td>NaN</td>\n      <td>NaN</td>\n      <td>NaN</td>\n      <td>NaN</td>\n    </tr>\n  </tbody>\n</table>\n<p>3155 rows × 11 columns</p>\n</div>"
     },
     "metadata": {},
     "execution_count": 96
    }
   ],
   "source": [
    "df_2012"
   ]
  },
  {
   "cell_type": "code",
   "execution_count": 97,
   "metadata": {},
   "outputs": [],
   "source": [
    "df_2012.to_csv(\"2012.csv\")"
   ]
  },
  {
   "cell_type": "code",
   "execution_count": 112,
   "metadata": {},
   "outputs": [
    {
     "output_type": "execute_result",
     "data": {
      "text/plain": [
       "Mitt Romney     2445\n",
       "Barack Obama     710\n",
       "Name: candidate, dtype: int64"
      ]
     },
     "metadata": {},
     "execution_count": 112
    }
   ],
   "source": [
    "df_2012.candidate.value_counts()"
   ]
  },
  {
   "cell_type": "code",
   "execution_count": 98,
   "metadata": {},
   "outputs": [],
   "source": [
    "df_2008 = preprocess_by_year(2008, df_year)\n",
    "df_2008.to_csv(\"2008.csv\")"
   ]
  },
  {
   "cell_type": "code",
   "execution_count": 107,
   "metadata": {},
   "outputs": [
    {
     "output_type": "execute_result",
     "data": {
      "text/plain": [
       "  state_po   county   FIPS    candidate  totalvotes  perc_rep  votes_rep  \\\n",
       "0       AL  Autauga  01001  John McCain       23641     73.61    17403.0   \n",
       "1       AL  Baldwin  01003  John McCain       81413     75.26    61271.0   \n",
       "2       AL  Barbour  01005  John McCain       11630     50.44     5866.0   \n",
       "3       AL     Bibb  01007  John McCain        8644     72.44     6262.0   \n",
       "4       AL   Blount  01009  John McCain       24267     84.02    20389.0   \n",
       "\n",
       "   perc_dem  votes_dem  votes_diff  pct_diff  \n",
       "0     25.77     6093.0    -11310.0    -47.84  \n",
       "1     23.81    19386.0    -41885.0    -51.45  \n",
       "2     48.99     5697.0      -169.0     -1.45  \n",
       "3     26.60     2299.0     -3963.0    -45.85  \n",
       "4     14.51     3522.0    -16867.0    -69.51  "
      ],
      "text/html": "<div>\n<style scoped>\n    .dataframe tbody tr th:only-of-type {\n        vertical-align: middle;\n    }\n\n    .dataframe tbody tr th {\n        vertical-align: top;\n    }\n\n    .dataframe thead th {\n        text-align: right;\n    }\n</style>\n<table border=\"1\" class=\"dataframe\">\n  <thead>\n    <tr style=\"text-align: right;\">\n      <th></th>\n      <th>state_po</th>\n      <th>county</th>\n      <th>FIPS</th>\n      <th>candidate</th>\n      <th>totalvotes</th>\n      <th>perc_rep</th>\n      <th>votes_rep</th>\n      <th>perc_dem</th>\n      <th>votes_dem</th>\n      <th>votes_diff</th>\n      <th>pct_diff</th>\n    </tr>\n  </thead>\n  <tbody>\n    <tr>\n      <th>0</th>\n      <td>AL</td>\n      <td>Autauga</td>\n      <td>01001</td>\n      <td>John McCain</td>\n      <td>23641</td>\n      <td>73.61</td>\n      <td>17403.0</td>\n      <td>25.77</td>\n      <td>6093.0</td>\n      <td>-11310.0</td>\n      <td>-47.84</td>\n    </tr>\n    <tr>\n      <th>1</th>\n      <td>AL</td>\n      <td>Baldwin</td>\n      <td>01003</td>\n      <td>John McCain</td>\n      <td>81413</td>\n      <td>75.26</td>\n      <td>61271.0</td>\n      <td>23.81</td>\n      <td>19386.0</td>\n      <td>-41885.0</td>\n      <td>-51.45</td>\n    </tr>\n    <tr>\n      <th>2</th>\n      <td>AL</td>\n      <td>Barbour</td>\n      <td>01005</td>\n      <td>John McCain</td>\n      <td>11630</td>\n      <td>50.44</td>\n      <td>5866.0</td>\n      <td>48.99</td>\n      <td>5697.0</td>\n      <td>-169.0</td>\n      <td>-1.45</td>\n    </tr>\n    <tr>\n      <th>3</th>\n      <td>AL</td>\n      <td>Bibb</td>\n      <td>01007</td>\n      <td>John McCain</td>\n      <td>8644</td>\n      <td>72.44</td>\n      <td>6262.0</td>\n      <td>26.60</td>\n      <td>2299.0</td>\n      <td>-3963.0</td>\n      <td>-45.85</td>\n    </tr>\n    <tr>\n      <th>4</th>\n      <td>AL</td>\n      <td>Blount</td>\n      <td>01009</td>\n      <td>John McCain</td>\n      <td>24267</td>\n      <td>84.02</td>\n      <td>20389.0</td>\n      <td>14.51</td>\n      <td>3522.0</td>\n      <td>-16867.0</td>\n      <td>-69.51</td>\n    </tr>\n  </tbody>\n</table>\n</div>"
     },
     "metadata": {},
     "execution_count": 107
    }
   ],
   "source": [
    "df_2008.head()"
   ]
  },
  {
   "cell_type": "code",
   "execution_count": 106,
   "metadata": {},
   "outputs": [
    {
     "output_type": "execute_result",
     "data": {
      "text/plain": [
       "John McCain     2271\n",
       "Barack Obama     884\n",
       "Name: candidate, dtype: int64"
      ]
     },
     "metadata": {},
     "execution_count": 106
    }
   ],
   "source": [
    "df_2008.candidate.value_counts()"
   ]
  },
  {
   "cell_type": "code",
   "execution_count": 100,
   "metadata": {},
   "outputs": [],
   "source": [
    "df_2004 = preprocess_by_year(2004, df_year)\n",
    "df_2004.to_csv(\"2004.csv\")"
   ]
  },
  {
   "cell_type": "code",
   "execution_count": 108,
   "metadata": {},
   "outputs": [
    {
     "output_type": "execute_result",
     "data": {
      "text/plain": [
       "  state_po   county   FIPS       candidate  totalvotes  perc_rep  votes_rep  \\\n",
       "0       AL  Autauga  01001  George W. Bush       20081     75.67    15196.0   \n",
       "1       AL  Baldwin  01003  George W. Bush       69320     76.42    52971.0   \n",
       "2       AL  Barbour  01005  George W. Bush       10777     54.74     5899.0   \n",
       "3       AL     Bibb  01007  George W. Bush        7600     72.00     5472.0   \n",
       "4       AL   Blount  01009  George W. Bush       21504     80.85    17386.0   \n",
       "\n",
       "   perc_dem  votes_dem  votes_diff  pct_diff  \n",
       "0     23.69     4758.0    -10438.0    -51.98  \n",
       "1     22.50    15599.0    -37372.0    -53.91  \n",
       "2     44.84     4832.0     -1067.0     -9.90  \n",
       "3     27.49     2089.0     -3383.0    -44.51  \n",
       "4     18.31     3938.0    -13448.0    -62.54  "
      ],
      "text/html": "<div>\n<style scoped>\n    .dataframe tbody tr th:only-of-type {\n        vertical-align: middle;\n    }\n\n    .dataframe tbody tr th {\n        vertical-align: top;\n    }\n\n    .dataframe thead th {\n        text-align: right;\n    }\n</style>\n<table border=\"1\" class=\"dataframe\">\n  <thead>\n    <tr style=\"text-align: right;\">\n      <th></th>\n      <th>state_po</th>\n      <th>county</th>\n      <th>FIPS</th>\n      <th>candidate</th>\n      <th>totalvotes</th>\n      <th>perc_rep</th>\n      <th>votes_rep</th>\n      <th>perc_dem</th>\n      <th>votes_dem</th>\n      <th>votes_diff</th>\n      <th>pct_diff</th>\n    </tr>\n  </thead>\n  <tbody>\n    <tr>\n      <th>0</th>\n      <td>AL</td>\n      <td>Autauga</td>\n      <td>01001</td>\n      <td>George W. Bush</td>\n      <td>20081</td>\n      <td>75.67</td>\n      <td>15196.0</td>\n      <td>23.69</td>\n      <td>4758.0</td>\n      <td>-10438.0</td>\n      <td>-51.98</td>\n    </tr>\n    <tr>\n      <th>1</th>\n      <td>AL</td>\n      <td>Baldwin</td>\n      <td>01003</td>\n      <td>George W. Bush</td>\n      <td>69320</td>\n      <td>76.42</td>\n      <td>52971.0</td>\n      <td>22.50</td>\n      <td>15599.0</td>\n      <td>-37372.0</td>\n      <td>-53.91</td>\n    </tr>\n    <tr>\n      <th>2</th>\n      <td>AL</td>\n      <td>Barbour</td>\n      <td>01005</td>\n      <td>George W. Bush</td>\n      <td>10777</td>\n      <td>54.74</td>\n      <td>5899.0</td>\n      <td>44.84</td>\n      <td>4832.0</td>\n      <td>-1067.0</td>\n      <td>-9.90</td>\n    </tr>\n    <tr>\n      <th>3</th>\n      <td>AL</td>\n      <td>Bibb</td>\n      <td>01007</td>\n      <td>George W. Bush</td>\n      <td>7600</td>\n      <td>72.00</td>\n      <td>5472.0</td>\n      <td>27.49</td>\n      <td>2089.0</td>\n      <td>-3383.0</td>\n      <td>-44.51</td>\n    </tr>\n    <tr>\n      <th>4</th>\n      <td>AL</td>\n      <td>Blount</td>\n      <td>01009</td>\n      <td>George W. Bush</td>\n      <td>21504</td>\n      <td>80.85</td>\n      <td>17386.0</td>\n      <td>18.31</td>\n      <td>3938.0</td>\n      <td>-13448.0</td>\n      <td>-62.54</td>\n    </tr>\n  </tbody>\n</table>\n</div>"
     },
     "metadata": {},
     "execution_count": 108
    }
   ],
   "source": [
    "df_2004.head()"
   ]
  },
  {
   "cell_type": "code",
   "execution_count": 110,
   "metadata": {},
   "outputs": [
    {
     "output_type": "execute_result",
     "data": {
      "text/plain": [
       "George W. Bush    2568\n",
       "John Kerry         587\n",
       "Name: candidate, dtype: int64"
      ]
     },
     "metadata": {},
     "execution_count": 110
    }
   ],
   "source": [
    "df_2004.candidate.value_counts()"
   ]
  },
  {
   "cell_type": "code",
   "execution_count": 102,
   "metadata": {},
   "outputs": [],
   "source": [
    "df_2000 = preprocess_by_year(2000, df_year)\n",
    "df_2000.to_csv(\"2000.csv\")"
   ]
  },
  {
   "cell_type": "code",
   "execution_count": 111,
   "metadata": {},
   "outputs": [
    {
     "output_type": "execute_result",
     "data": {
      "text/plain": [
       "George W. Bush    2478\n",
       "Al Gore            676\n",
       "Name: candidate, dtype: int64"
      ]
     },
     "metadata": {},
     "execution_count": 111
    }
   ],
   "source": [
    "df_2000.candidate.value_counts()"
   ]
  },
  {
   "cell_type": "code",
   "execution_count": null,
   "metadata": {},
   "outputs": [],
   "source": []
  }
 ]
}